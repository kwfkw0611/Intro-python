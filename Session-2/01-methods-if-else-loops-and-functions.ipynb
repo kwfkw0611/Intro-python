{
 "cells": [
  {
   "cell_type": "markdown",
   "metadata": {},
   "source": [
    "![pic](https://xccelerate.co/static/logo@3x-45da759fdee2af1d7e8b7cc2c3e8e73e-28324.png)"
   ]
  },
  {
   "cell_type": "markdown",
   "metadata": {},
   "source": [
    "# Python Basics Introduction II\n",
    "\n",
    "The learning objectives are:\n",
    "* Methods:\n",
    "    * String Methods\n",
    "    * Data Container Methods\n",
    "* In & Not In Statements  \n",
    "* If...Else Statements\n",
    "    * Elif\n",
    "    * Nested\n",
    "* Loops Statements\n",
    "    * For Loops\n",
    "    * While Loops\n",
    "* User Defined Functions\n",
    "    * Lambda Expressions\n",
    "* List Comprehension and Dictionary Comprehension\n",
    "* Datetime Module"
   ]
  },
  {
   "cell_type": "markdown",
   "metadata": {},
   "source": [
    "### Methods\n",
    "\n",
    "Methods are functions that is called on an object (Python's abstraction for data). Different data types have different methods. The syntax to call a method on an object is `object.methodname()`. In a Jupyter Notebook, after adding a `.` on an object, press `Tab` to bring a up list of possible methods to call on this object.\n",
    "\n",
    "##### Example:\n",
    "```python\n",
    "\n",
    "x = [1,2,3]\n",
    "x.append(5)\n",
    "\n",
    "\n",
    "```\n",
    "\n",
    "In the example code  `.append()` is a method for the variable x, a list object. This method appends an object at the end of a list. As with built-in Python functions, press `shift+tab` to view a method's docstring.\n",
    "\n",
    "Alternatively, passing an object in `help()` will return a more detail version of all possible methods for that data type.\n",
    "\n",
    "##### Examples:\n",
    "```python\n",
    "\n",
    "help(x) , help(str) , help(dict)\n",
    "\n",
    "```\n",
    "\n",
    "*** Note: Methods for mathematical computing will be learned in NumPy ***"
   ]
  },
  {
   "cell_type": "markdown",
   "metadata": {},
   "source": [
    "### String Methods\n",
    "\n",
    "Strings have two types of methods, a String Method and Boolean String Method. For a String Method, all methods returns a new value. Boolean String Method will always returns a boolean `True` or `False`. "
   ]
  },
  {
   "cell_type": "markdown",
   "metadata": {},
   "source": [
    "##### Common Boolean String Methods Examples:\n",
    "\n",
    "* `.isalnum()` - Returns True if string is only alphabetic and numeric, otherwise False.\n",
    "* `.isalpha()` - Returns True if string is all alphabetic, otherwise False.\n",
    "* `.isdigit()` - Returns True if string is all numeric, otherwise False.\n",
    "* `.islower()` - Returns True if string is all in lowercase alphabetic, otherwise False\n",
    "* `.isupper()` - Returns True if string is all in uppercase alphabetic, otherwise False.\n",
    "* `.endswith()` - Returns True if string ends with specified string value,  otherwise False.\n",
    "* `.startswith()` - Returns True if string starts with sepecified string value, otherwise False."
   ]
  },
  {
   "cell_type": "code",
   "execution_count": 1,
   "metadata": {},
   "outputs": [
    {
     "data": {
      "text/plain": [
       "True"
      ]
     },
     "execution_count": 1,
     "metadata": {},
     "output_type": "execute_result"
    }
   ],
   "source": [
    "# .isalnum() - No substring is passed inside ()\n",
    "\"abc123\".isalnum()"
   ]
  },
  {
   "cell_type": "code",
   "execution_count": 2,
   "metadata": {},
   "outputs": [
    {
     "name": "stdout",
     "output_type": "stream",
     "text": [
      "False\n"
     ]
    }
   ],
   "source": [
    "# .isalnum() \n",
    "alpha_num = \"python 3.7\"\n",
    "print(alpha_num.isalnum())"
   ]
  },
  {
   "cell_type": "code",
   "execution_count": 3,
   "metadata": {},
   "outputs": [
    {
     "name": "stdout",
     "output_type": "stream",
     "text": [
      "Is Python all alphabetic? True\n"
     ]
    }
   ],
   "source": [
    "# .isalpha() - No substring is passed inside ()\n",
    "my_alpha = \"Python\"\n",
    "print(\"Is {} all alphabetic? {}\".format(my_alpha, my_alpha.isalpha()))"
   ]
  },
  {
   "cell_type": "code",
   "execution_count": 4,
   "metadata": {},
   "outputs": [
    {
     "data": {
      "text/plain": [
       "True"
      ]
     },
     "execution_count": 4,
     "metadata": {},
     "output_type": "execute_result"
    }
   ],
   "source": [
    "# .isalpha() - \n",
    "swapcase = \"SwApCaSe\"\n",
    "swapcase.isalpha()"
   ]
  },
  {
   "cell_type": "code",
   "execution_count": 5,
   "metadata": {},
   "outputs": [
    {
     "name": "stdout",
     "output_type": "stream",
     "text": [
      "Is -1 an integer? False\n"
     ]
    }
   ],
   "source": [
    "# .isdigit() - No substring is passed inside ()\n",
    "birdie = \"-1\"\n",
    "print(\"Is {} an integer? {}\".format(birdie, birdie.isdigit()))"
   ]
  },
  {
   "cell_type": "code",
   "execution_count": 6,
   "metadata": {},
   "outputs": [
    {
     "name": "stdout",
     "output_type": "stream",
     "text": [
      "This is Python 101? True\n"
     ]
    }
   ],
   "source": [
    "# .isdigit() \n",
    "print(\"This is Python 101?\", \"101\".isdigit())"
   ]
  },
  {
   "cell_type": "code",
   "execution_count": 7,
   "metadata": {},
   "outputs": [
    {
     "data": {
      "text/plain": [
       "True"
      ]
     },
     "execution_count": 7,
     "metadata": {},
     "output_type": "execute_result"
    }
   ],
   "source": [
    "# .islower() - No substring is passed inside ()\n",
    "\"python 101\".islower()"
   ]
  },
  {
   "cell_type": "code",
   "execution_count": 8,
   "metadata": {},
   "outputs": [
    {
     "name": "stdout",
     "output_type": "stream",
     "text": [
      "Is SwApCaSe in all lowercase format? False\n"
     ]
    }
   ],
   "source": [
    "# .islower()\n",
    "print(\"Is \" + swapcase + \" in all lowercase format?\",swapcase.islower())"
   ]
  },
  {
   "cell_type": "code",
   "execution_count": 9,
   "metadata": {},
   "outputs": [
    {
     "name": "stdout",
     "output_type": "stream",
     "text": [
      "True\n"
     ]
    }
   ],
   "source": [
    "# .islower()\n",
    "my_string = \"i like learning python!\"\n",
    "print(my_string.islower())"
   ]
  },
  {
   "cell_type": "code",
   "execution_count": 10,
   "metadata": {},
   "outputs": [
    {
     "data": {
      "text/plain": [
       "False"
      ]
     },
     "execution_count": 10,
     "metadata": {},
     "output_type": "execute_result"
    }
   ],
   "source": [
    "# .isupper() - No substring is passed inside ()\n",
    "swapcase.isupper()"
   ]
  },
  {
   "cell_type": "code",
   "execution_count": 11,
   "metadata": {},
   "outputs": [
    {
     "name": "stdout",
     "output_type": "stream",
     "text": [
      "True\n"
     ]
    }
   ],
   "source": [
    "# .isupper() \n",
    "yell = \"YELL!\"\n",
    "print(yell.isupper())"
   ]
  },
  {
   "cell_type": "code",
   "execution_count": 12,
   "metadata": {},
   "outputs": [
    {
     "name": "stdout",
     "output_type": "stream",
     "text": [
      "Does title 'Tech Stocks Soar 3%' end with a %? True\n"
     ]
    }
   ],
   "source": [
    "# .endswith() - Specified substring is passed inside ()\n",
    "headline = \"Tech Stocks Soar 3%\"\n",
    "print(\"Does title '{}' end with a %? {}\".format(headline, headline.endswith('%')))"
   ]
  },
  {
   "cell_type": "code",
   "execution_count": 13,
   "metadata": {},
   "outputs": [
    {
     "name": "stdout",
     "output_type": "stream",
     "text": [
      "alpha_num output is: python 3.7\n",
      "True\n"
     ]
    }
   ],
   "source": [
    "# .endswith()\n",
    "print(\"alpha_num output is:\", alpha_num)\n",
    "print(alpha_num.endswith('3.7'))"
   ]
  },
  {
   "cell_type": "code",
   "execution_count": 14,
   "metadata": {},
   "outputs": [
    {
     "data": {
      "text/plain": [
       "False"
      ]
     },
     "execution_count": 14,
     "metadata": {},
     "output_type": "execute_result"
    }
   ],
   "source": [
    "# .startswith() - Specified substring is passed inside ()\n",
    "\"Python\".startswith('p')"
   ]
  },
  {
   "cell_type": "code",
   "execution_count": 15,
   "metadata": {},
   "outputs": [
    {
     "data": {
      "text/plain": [
       "True"
      ]
     },
     "execution_count": 15,
     "metadata": {},
     "output_type": "execute_result"
    }
   ],
   "source": [
    "# .startswith()\n",
    "my_string.startswith('i like')"
   ]
  },
  {
   "cell_type": "markdown",
   "metadata": {},
   "source": [
    "##### Common String Methods:\n",
    "* `.count()` - Returns the number of occurence of a substring in a string.\n",
    "* `.find()` - Returns the index of first occurence of a substring in a string from [start:end].\n",
    "* `.index()` - Returns the index of first occurence of a substring in a string from [start:end].\n",
    "* `.join()` - Returns a concatenated string where string elements is joined by a string separator.\n",
    "* `.lower()` - Returns all alphabetic to lowercase.\n",
    "* `.upper()` - Returns all alphabetic to uppercase.\n",
    "* `.replace()` - Returns a string where all occurence of a substring is replaced by a specified substring.\n",
    "* `.split()` - Returns a list of strings separated by a specified separator.\n",
    "* `.strip()` - Returns a string with front and end whitespace removed.\n",
    "\n"
   ]
  },
  {
   "cell_type": "code",
   "execution_count": 16,
   "metadata": {},
   "outputs": [
    {
     "name": "stdout",
     "output_type": "stream",
     "text": [
      "4\n"
     ]
    }
   ],
   "source": [
    "# .count() - A specified substring is passed inside ()\n",
    "print(\"How many times does 'i' appear in this sentence?\".count('i'))"
   ]
  },
  {
   "cell_type": "code",
   "execution_count": 17,
   "metadata": {},
   "outputs": [
    {
     "name": "stdout",
     "output_type": "stream",
     "text": [
      "1\n"
     ]
    }
   ],
   "source": [
    "# .count()\n",
    "python_count = my_string.count('python')\n",
    "print(python_count)"
   ]
  },
  {
   "cell_type": "code",
   "execution_count": 18,
   "metadata": {},
   "outputs": [
    {
     "name": "stdout",
     "output_type": "stream",
     "text": [
      "3\n"
     ]
    }
   ],
   "source": [
    "# .find() - A specified substring is passed inside ()\n",
    "print(\"The first space in this sentence is where? The answer is: \".find(' '))"
   ]
  },
  {
   "cell_type": "code",
   "execution_count": 19,
   "metadata": {},
   "outputs": [
    {
     "name": "stdout",
     "output_type": "stream",
     "text": [
      "16\n"
     ]
    }
   ],
   "source": [
    "# .find() - An optional start and end index can be given to where search begins and engs\n",
    "print(\"The first space in this sentence is where? The answer is: \".find('i', 10))"
   ]
  },
  {
   "cell_type": "code",
   "execution_count": 20,
   "metadata": {},
   "outputs": [
    {
     "name": "stdout",
     "output_type": "stream",
     "text": [
      "25\n"
     ]
    }
   ],
   "source": [
    "# .find() \n",
    "print(\"The first space in this sentence is where? The answer is: \".find('e', 20, -1))"
   ]
  },
  {
   "cell_type": "code",
   "execution_count": 21,
   "metadata": {},
   "outputs": [
    {
     "data": {
      "text/plain": [
       "-1"
      ]
     },
     "execution_count": 21,
     "metadata": {},
     "output_type": "execute_result"
    }
   ],
   "source": [
    "# .find()\n",
    "hw = 'Hello, World!'\n",
    "hw.find('hello') # returns -1 if unable to find specified substring"
   ]
  },
  {
   "cell_type": "code",
   "execution_count": 22,
   "metadata": {},
   "outputs": [
    {
     "name": "stdout",
     "output_type": "stream",
     "text": [
      "25\n"
     ]
    }
   ],
   "source": [
    "# .index() - A specified substring is passed inside ()\n",
    "alphabet = 'abcdefghijklmnopqrstuvwxyz'\n",
    "z_index = alphabet.index('z')\n",
    "print(z_index)"
   ]
  },
  {
   "cell_type": "code",
   "execution_count": 23,
   "metadata": {},
   "outputs": [
    {
     "data": {
      "text/plain": [
       "1"
      ]
     },
     "execution_count": 23,
     "metadata": {},
     "output_type": "execute_result"
    }
   ],
   "source": [
    "# .index()\n",
    "m = 'AaBc'\n",
    "m.index('aB') # returns only the index from the first substring value, in this example its 'a'"
   ]
  },
  {
   "cell_type": "code",
   "execution_count": 24,
   "metadata": {},
   "outputs": [
    {
     "name": "stdout",
     "output_type": "stream",
     "text": [
      "i_ _l_i_k_e_ _l_e_a_r_n_i_n_g_ _p_y_t_h_o_n_!\n"
     ]
    }
   ],
   "source": [
    "# .join() - An iterable is passed inside (), iterable examples are String, List, Dictionary, and Tuple\n",
    "_sep = '_'.join(my_string)\n",
    "print(_sep)"
   ]
  },
  {
   "cell_type": "code",
   "execution_count": 25,
   "metadata": {},
   "outputs": [
    {
     "data": {
      "text/plain": [
       "'HAaBceAaBclAaBclAaBcoAaBc,AaBc AaBcWAaBcoAaBcrAaBclAaBcdAaBc!'"
      ]
     },
     "execution_count": 25,
     "metadata": {},
     "output_type": "execute_result"
    }
   ],
   "source": [
    "# .join()\n",
    "m.join(hw)"
   ]
  },
  {
   "cell_type": "code",
   "execution_count": 26,
   "metadata": {},
   "outputs": [
    {
     "name": "stdout",
     "output_type": "stream",
     "text": [
      "a notebook about python!\n"
     ]
    }
   ],
   "source": [
    "# .lower() - No substring is passed inside ()\n",
    "yell_str = \"A NOTEBOOK ABOUT PYTHON!\"\n",
    "quiet_yell = yell_str.lower()\n",
    "print(quiet_yell)"
   ]
  },
  {
   "cell_type": "code",
   "execution_count": 27,
   "metadata": {},
   "outputs": [
    {
     "name": "stdout",
     "output_type": "stream",
     "text": [
      "From SwApCaSe to not swapcase\n"
     ]
    }
   ],
   "source": [
    "# .lower()\n",
    "print(\"From {} to not {}\".format(swapcase, swapcase.lower()))"
   ]
  },
  {
   "cell_type": "code",
   "execution_count": 28,
   "metadata": {},
   "outputs": [
    {
     "data": {
      "text/plain": [
       "'FROM LOWERCASE TO UPPERCASE'"
      ]
     },
     "execution_count": 28,
     "metadata": {},
     "output_type": "execute_result"
    }
   ],
   "source": [
    "# .upper()\n",
    "'from lowercase to uppercase'.upper()"
   ]
  },
  {
   "cell_type": "code",
   "execution_count": 29,
   "metadata": {},
   "outputs": [
    {
     "data": {
      "text/plain": [
       "'FROM SWAPCASE TO UPPERCASE'"
      ]
     },
     "execution_count": 29,
     "metadata": {},
     "output_type": "execute_result"
    }
   ],
   "source": [
    "# .upper()\n",
    "'from SwApCaSe to UPPERcase'.upper()"
   ]
  },
  {
   "cell_type": "code",
   "execution_count": 30,
   "metadata": {},
   "outputs": [
    {
     "name": "stdout",
     "output_type": "stream",
     "text": [
      "The Dog in the Hat by Dr. Seuss\n"
     ]
    }
   ],
   "source": [
    "# .replace() - A specified old substring and new substring is passed inside ()\n",
    "dr_seuss = \"The Cat in the Hat by Dr. Seuss\"\n",
    "cat2dog = dr_seuss.replace(\"Cat\", \"Dog\")\n",
    "print(cat2dog)"
   ]
  },
  {
   "cell_type": "code",
   "execution_count": 31,
   "metadata": {},
   "outputs": [
    {
     "name": "stdout",
     "output_type": "stream",
     "text": [
      "How much WOULD would a WOULDchuck chuck if a WOULDchuck could chuck WOULD?\n"
     ]
    }
   ],
   "source": [
    "# .replace()\n",
    "tongue_twister = \"How much wood would a woodchuck chuck if a woodchuck could chuck wood?\"\n",
    "wood2would = tongue_twister.replace(\"wood\", \"WOULD\" ) # default is to replace all occurence of substring\n",
    "print(wood2would)"
   ]
  },
  {
   "cell_type": "code",
   "execution_count": 32,
   "metadata": {},
   "outputs": [
    {
     "data": {
      "text/plain": [
       "'How much WOULD would a WOULDchuck chuck if a woodchuck could chuck wood?'"
      ]
     },
     "execution_count": 32,
     "metadata": {},
     "output_type": "execute_result"
    }
   ],
   "source": [
    "# .replace()\n",
    "tongue_twister.replace(\"wood\", \"WOULD\", 2) # optional count value given are replaced"
   ]
  },
  {
   "cell_type": "code",
   "execution_count": 33,
   "metadata": {},
   "outputs": [
    {
     "name": "stdout",
     "output_type": "stream",
     "text": [
      "['The', 'Cat', 'in', 'the', 'Hat', 'by', 'Dr.', 'Seuss']\n"
     ]
    }
   ],
   "source": [
    "# .split() - A specified string delimiter can be passed inside (), by default will split on whitespace\n",
    "dr_seuss_list = dr_seuss.split()\n",
    "print(dr_seuss_list)"
   ]
  },
  {
   "cell_type": "code",
   "execution_count": 34,
   "metadata": {},
   "outputs": [
    {
     "data": {
      "text/plain": [
       "['The Cat in the ', ' by Dr. Seuss']"
      ]
     },
     "execution_count": 34,
     "metadata": {},
     "output_type": "execute_result"
    }
   ],
   "source": [
    "# .split()\n",
    "dr_seuss.split('Hat')"
   ]
  },
  {
   "cell_type": "code",
   "execution_count": 35,
   "metadata": {},
   "outputs": [
    {
     "name": "stdout",
     "output_type": "stream",
     "text": [
      "['', 'bcde', 'bcde', 'cbd', 'bcde']\n"
     ]
    }
   ],
   "source": [
    "abcde = \"abcdeabcdeacbdabcde\"\n",
    "no_a = abcde.split(\"a\")\n",
    "print(no_a)"
   ]
  },
  {
   "cell_type": "code",
   "execution_count": 36,
   "metadata": {},
   "outputs": [
    {
     "data": {
      "text/plain": [
       "'A string with spaces at either end'"
      ]
     },
     "execution_count": 36,
     "metadata": {},
     "output_type": "execute_result"
    }
   ],
   "source": [
    "# .strip() \n",
    "s = \"  A string with spaces at either end   \"\n",
    "s.strip() #removes whitespaces from start and end"
   ]
  },
  {
   "cell_type": "code",
   "execution_count": 37,
   "metadata": {},
   "outputs": [
    {
     "name": "stdout",
     "output_type": "stream",
     "text": [
      "hashtag #python #hongkong #852 #code\n"
     ]
    }
   ],
   "source": [
    "# .strip() - An optional character can be passed inside (), if given will strip on that character in front and end of string\n",
    "twitter = \"###hashtag #python #hongkong #852 #code###\"\n",
    "hashtag_strip = twitter.strip(\"#\")\n",
    "print(hashtag_strip)"
   ]
  },
  {
   "cell_type": "markdown",
   "metadata": {},
   "source": [
    "##### Chaining String Methods\n",
    "\n",
    "Method chaining is by adding a second method after the first method on an object for example `object.method1().method2()`. "
   ]
  },
  {
   "cell_type": "code",
   "execution_count": 38,
   "metadata": {},
   "outputs": [
    {
     "data": {
      "text/plain": [
       "['the', 'cat', 'in', 'the', 'hat', 'by', 'dr.', 'seuss']"
      ]
     },
     "execution_count": 38,
     "metadata": {},
     "output_type": "execute_result"
    }
   ],
   "source": [
    "# .lower().split()\n",
    "dr_seuss.lower().split()"
   ]
  },
  {
   "cell_type": "code",
   "execution_count": 39,
   "metadata": {},
   "outputs": [
    {
     "ename": "AttributeError",
     "evalue": "'list' object has no attribute 'lower'",
     "output_type": "error",
     "traceback": [
      "\u001b[0;31m---------------------------------------------------------------------------\u001b[0m",
      "\u001b[0;31mAttributeError\u001b[0m                            Traceback (most recent call last)",
      "\u001b[0;32m<ipython-input-39-927c509dba16>\u001b[0m in \u001b[0;36m<module>\u001b[0;34m()\u001b[0m\n\u001b[1;32m      1\u001b[0m \u001b[0;31m# method order matters for chaining methods\u001b[0m\u001b[0;34m\u001b[0m\u001b[0;34m\u001b[0m\u001b[0m\n\u001b[0;32m----> 2\u001b[0;31m \u001b[0mdr_seuss\u001b[0m\u001b[0;34m.\u001b[0m\u001b[0msplit\u001b[0m\u001b[0;34m(\u001b[0m\u001b[0;34m)\u001b[0m\u001b[0;34m.\u001b[0m\u001b[0mlower\u001b[0m\u001b[0;34m(\u001b[0m\u001b[0;34m)\u001b[0m \u001b[0;31m# by calling .split() first, the object has become a list and .lower() does not work on a list, returns an error\u001b[0m\u001b[0;34m\u001b[0m\u001b[0m\n\u001b[0m",
      "\u001b[0;31mAttributeError\u001b[0m: 'list' object has no attribute 'lower'"
     ]
    }
   ],
   "source": [
    "# method order matters for chaining methods\n",
    "dr_seuss.split().lower() # by calling .split() first, the object has become a list and .lower() does not work on a list, returns an error"
   ]
  },
  {
   "cell_type": "code",
   "execution_count": 40,
   "metadata": {},
   "outputs": [
    {
     "data": {
      "text/plain": [
       "30"
      ]
     },
     "execution_count": 40,
     "metadata": {},
     "output_type": "execute_result"
    }
   ],
   "source": [
    "# .join().count()\n",
    "'^'.join(dr_seuss).count('^')"
   ]
  },
  {
   "cell_type": "code",
   "execution_count": 41,
   "metadata": {},
   "outputs": [
    {
     "data": {
      "text/plain": [
       "['A',\n",
       " ' notebook ',\n",
       " 'bout python!',\n",
       " '',\n",
       " ' notebook ',\n",
       " 'bout python!B',\n",
       " ' notebook ',\n",
       " 'bout python!c']"
      ]
     },
     "execution_count": 41,
     "metadata": {},
     "output_type": "execute_result"
    }
   ],
   "source": [
    "# .lower().join().split()\n",
    "yell_str.lower().join(m).split('a')"
   ]
  },
  {
   "cell_type": "markdown",
   "metadata": {},
   "source": [
    "*** Note: experiment will multiple method chains to see results ***"
   ]
  },
  {
   "cell_type": "markdown",
   "metadata": {},
   "source": [
    "### List Methods\n",
    "\n",
    "Common list methods are:\n",
    "\n",
    "* `.copy()` - Returns a copy of a list.\n",
    "* `.append()` - Add a single object at end of list.\n",
    "* `.extend()` - Add an iterable object in sequence at end of list. Main iterable are strings, list, and dictionary.\n",
    "* `.insert()` - Insert an object before a given index.\n",
    "* `.remove()` - Remove first occurence object from a list.\n",
    "* `.index()` - Returns object's first occurence index in a list.\n",
    "* `.count()` - Returns object's number of occurence in a list.\n",
    "* `.sort()` - Sorts the objects in a list in ascending order.\n",
    "    "
   ]
  },
  {
   "cell_type": "code",
   "execution_count": 42,
   "metadata": {},
   "outputs": [
    {
     "name": "stdout",
     "output_type": "stream",
     "text": [
      "['The', 'Cat', 'in', 'the', 'Hat', 'by', 'Dr.', 'Seuss']\n"
     ]
    }
   ],
   "source": [
    "# .copy()\n",
    "drseuss_copy = dr_seuss_list.copy()\n",
    "print(drseuss_copy)"
   ]
  },
  {
   "cell_type": "markdown",
   "metadata": {},
   "source": [
    "*** Assigning a list to variable and then performing methods on variable will affect orginal list *** "
   ]
  },
  {
   "cell_type": "code",
   "execution_count": 43,
   "metadata": {},
   "outputs": [
    {
     "name": "stdout",
     "output_type": "stream",
     "text": [
      "orginal_list contents:  ['a', 's', 1, 2, 'd', 3, '3.14']\n",
      "copy_list contents:  ['a', 's', 1, 2, 'd', 3, '3.14']\n"
     ]
    }
   ],
   "source": [
    "# .copy()\n",
    "original_list = ['a', 's', 1, 2, 'd', 3]\n",
    "copy_list = original_list\n",
    "copy_list.append('3.14')\n",
    "print(\"orginal_list contents: \", original_list)\n",
    "print(\"copy_list contents: \", copy_list)"
   ]
  },
  {
   "cell_type": "code",
   "execution_count": 44,
   "metadata": {},
   "outputs": [
    {
     "name": "stdout",
     "output_type": "stream",
     "text": [
      "orginal_list contents:  ['a', 's', 1, 2, 'd', 3]\n",
      "copy_list contents:  ['a', 's', 1, 2, 'd', 3, '3.14']\n"
     ]
    }
   ],
   "source": [
    "# .copy() - to solve this issue call list with .copy() method\n",
    "original_list = ['a', 's', 1, 2, 'd', 3]\n",
    "copy_list = original_list.copy()\n",
    "copy_list.append('3.14')\n",
    "print(\"orginal_list contents: \", original_list)\n",
    "print(\"copy_list contents: \", copy_list)"
   ]
  },
  {
   "cell_type": "code",
   "execution_count": 45,
   "metadata": {},
   "outputs": [
    {
     "name": "stdout",
     "output_type": "stream",
     "text": [
      "[0, 1, 2, 3, 4, ['The', 'Cat', 'in', 'the', 'Hat', 'by', 'Dr.', 'Seuss']]\n"
     ]
    }
   ],
   "source": [
    "# .append() - appending a list to a list will create a nested list\n",
    "num_list = list(range(5))\n",
    "num_list.append(dr_seuss_list)\n",
    "print(num_list)"
   ]
  },
  {
   "cell_type": "code",
   "execution_count": 46,
   "metadata": {},
   "outputs": [
    {
     "name": "stdout",
     "output_type": "stream",
     "text": [
      "[0, 1, 2, 3, 4, ['The', 'Cat', 'in', 'the', 'Hat', 'by', 'Dr.', 'Seuss'], {'code': 'python', 'os': 'unix'}]\n"
     ]
    }
   ],
   "source": [
    "# .append() - \n",
    "num_list.append({'code':'python', 'os': 'unix'})\n",
    "print(num_list)"
   ]
  },
  {
   "cell_type": "code",
   "execution_count": 47,
   "metadata": {},
   "outputs": [
    {
     "name": "stdout",
     "output_type": "stream",
     "text": [
      "[1, 2, 3, 4, 5, 6, 'xyz', 1.8]\n"
     ]
    }
   ],
   "source": [
    "# .append() - appending a string, integer, or float will add in sequence to end of list\n",
    "one2five = [1,2,3,4,5]\n",
    "one2five.append(6)\n",
    "one2five.append('xyz')\n",
    "one2five.append(1.8)\n",
    "print(one2five)"
   ]
  },
  {
   "cell_type": "markdown",
   "metadata": {},
   "source": [
    "*** Some List methods return Nonetype when method operation is assigned to variable because these methods don't return an updated object only modify ***"
   ]
  },
  {
   "cell_type": "code",
   "execution_count": 48,
   "metadata": {},
   "outputs": [
    {
     "name": "stdout",
     "output_type": "stream",
     "text": [
      "The list contents:  None\n",
      "The list contents:  ['abc', 'def', 'ghi', 1]\n",
      "The list contents:  ['abc', 'def', 'ghi', 1]\n"
     ]
    }
   ],
   "source": [
    "# .append() - Returning a NoneType\n",
    "string_list = ['abc', 'def', 'ghi']\n",
    "mixed_list = string_list.append(1) # returns a None type if you assigned the called method to a variable\n",
    "print(\"The list contents: \", mixed_list)\n",
    "\n",
    "print(\"The list contents: \", string_list) # however the operation has occurred in-place\n",
    "\n",
    "new_list = string_list # after method has been called, then can assign to variable\n",
    "print(\"The list contents: \", new_list)"
   ]
  },
  {
   "cell_type": "code",
   "execution_count": 49,
   "metadata": {},
   "outputs": [
    {
     "name": "stdout",
     "output_type": "stream",
     "text": [
      "no_a contents:  ['', 'bcde', 'bcde', 'cbd', 'bcde']\n"
     ]
    },
    {
     "data": {
      "text/plain": [
       "['abc', 'def', 'ghi', '', 'bcde', 'bcde', 'cbd', 'bcde']"
      ]
     },
     "execution_count": 49,
     "metadata": {},
     "output_type": "execute_result"
    }
   ],
   "source": [
    "# .extend() \n",
    "str_list = ['abc', 'def', 'ghi']\n",
    "print(\"no_a contents: \", no_a)\n",
    "str_list.extend(no_a)\n",
    "str_list"
   ]
  },
  {
   "cell_type": "code",
   "execution_count": 50,
   "metadata": {},
   "outputs": [
    {
     "name": "stdout",
     "output_type": "stream",
     "text": [
      "[[1, 2], ['a', 'b'], 'python', 3.7, {'mobile': 'iphone', 'food': 'dimsum'}, 852, 'h', 'o', 'n', 'g', ' ', 'k', 'o', 'n', 'g']\n"
     ]
    }
   ],
   "source": [
    "# .extend() - extending with a string\n",
    "mixed_list = [[1,2],['a', 'b'], 'python', 3.7 ,{'mobile': 'iphone', 'food':'dimsum'}, 852]\n",
    "mixed_copy = mixed_list.copy()\n",
    "mixed_list.extend('hong kong') # extend will iterate each character in string and add to list\n",
    "print(mixed_list)"
   ]
  },
  {
   "cell_type": "code",
   "execution_count": 51,
   "metadata": {},
   "outputs": [
    {
     "name": "stdout",
     "output_type": "stream",
     "text": [
      "[[1, 2], ['a', 'b'], 'python', 3.7, {'mobile': 'iphone', 'food': 'dimsum'}, 852, 'h', 'o', 'n', 'g', ' ', 'k', 'o', 'n', 'g', 'a', 'z']\n"
     ]
    }
   ],
   "source": [
    "# .extend() - extend with a dictionary only adds the keys to the list\n",
    "mixed_list.extend({'a':1, 'z':26})\n",
    "print(mixed_list)"
   ]
  },
  {
   "cell_type": "code",
   "execution_count": 52,
   "metadata": {},
   "outputs": [
    {
     "name": "stdout",
     "output_type": "stream",
     "text": [
      "[[1, 2], ['a', 'b'], 'python', 3.7, {'mobile': 'iphone', 'food': 'dimsum'}, 852, 'hong kong', {'a': 0, 'z': 25}]\n"
     ]
    }
   ],
   "source": [
    "# .extend() - pass in as list \n",
    "mixed_copy.extend(['hong kong', {'a':0, 'z':25}])\n",
    "print(mixed_copy)"
   ]
  },
  {
   "cell_type": "code",
   "execution_count": 53,
   "metadata": {},
   "outputs": [
    {
     "name": "stdout",
     "output_type": "stream",
     "text": [
      "[0, 1, 2, 3, 4, 11, 12, 0.8, 3.14]\n"
     ]
    }
   ],
   "source": [
    "# .extend() - Cannot pass in number data type in extend only in a list form\n",
    "x = list(range(5))\n",
    "x.extend([11,12, 0.8, 3.14]) #add another list\n",
    "print(x)"
   ]
  },
  {
   "cell_type": "code",
   "execution_count": 54,
   "metadata": {},
   "outputs": [
    {
     "name": "stdout",
     "output_type": "stream",
     "text": [
      "['a', 's', 1, 2, 'd', 3, '3.14']\n",
      "['a', 's', 1, 'new value', 2, 'd', 3, '3.14']\n"
     ]
    }
   ],
   "source": [
    "# .insert() - An index and value is passed inside ()\n",
    "print(copy_list)\n",
    "copy_list.insert(3, 'new value')\n",
    "print(copy_list)"
   ]
  },
  {
   "cell_type": "code",
   "execution_count": 55,
   "metadata": {},
   "outputs": [
    {
     "name": "stdout",
     "output_type": "stream",
     "text": [
      "[0, 1, 2, 3, 4, 11, 12, 0.8, 3.14, 'a string']\n"
     ]
    }
   ],
   "source": [
    "# .insert()\n",
    "x.insert(9, 'a string')\n",
    "print(x)"
   ]
  },
  {
   "cell_type": "code",
   "execution_count": 56,
   "metadata": {},
   "outputs": [
    {
     "data": {
      "text/plain": [
       "[0, 1, 2, 3, 4, 12, 0.8, 3.14, 'a string']"
      ]
     },
     "execution_count": 56,
     "metadata": {},
     "output_type": "execute_result"
    }
   ],
   "source": [
    "# .remove()\n",
    "x.remove(11) #removes first 11 if finds from list\n",
    "x"
   ]
  },
  {
   "cell_type": "code",
   "execution_count": 57,
   "metadata": {},
   "outputs": [
    {
     "data": {
      "text/plain": [
       "[1, 1, 1, 1]"
      ]
     },
     "execution_count": 57,
     "metadata": {},
     "output_type": "execute_result"
    }
   ],
   "source": [
    "# .remove()\n",
    "ones = [1,1,1,1,1]\n",
    "ones.remove(1) # will only remove a single 1\n",
    "ones"
   ]
  },
  {
   "cell_type": "code",
   "execution_count": 58,
   "metadata": {},
   "outputs": [
    {
     "data": {
      "text/plain": [
       "3"
      ]
     },
     "execution_count": 58,
     "metadata": {},
     "output_type": "execute_result"
    }
   ],
   "source": [
    "# .index()\n",
    "copy_list.index('new value')"
   ]
  },
  {
   "cell_type": "code",
   "execution_count": 59,
   "metadata": {},
   "outputs": [
    {
     "name": "stdout",
     "output_type": "stream",
     "text": [
      "how many 'o' in mixed_list?  2\n",
      "how many 'a' in mixed_list?  1\n",
      "[[1, 2], ['a', 'b'], 'python', 3.7, {'mobile': 'iphone', 'food': 'dimsum'}, 852, 'h', 'o', 'n', 'g', ' ', 'k', 'o', 'n', 'g', 'a', 'z']\n"
     ]
    }
   ],
   "source": [
    "# .count() - count will not count values that are nested\n",
    "print(\"how many 'o' in mixed_list? \", mixed_list.count('o'))\n",
    "print(\"how many 'a' in mixed_list? \", mixed_list.count('a'))\n",
    "print(mixed_list)"
   ]
  },
  {
   "cell_type": "markdown",
   "metadata": {},
   "source": [
    "### Tuples\n",
    "\n",
    "Since tuples are immutable once created, can't add or remove element, hence they have 2 usable methods `.count()` and `.index()`."
   ]
  },
  {
   "cell_type": "code",
   "execution_count": 60,
   "metadata": {},
   "outputs": [],
   "source": [
    "tup = ('a','b','c','a')"
   ]
  },
  {
   "cell_type": "code",
   "execution_count": 61,
   "metadata": {},
   "outputs": [
    {
     "data": {
      "text/plain": [
       "2"
      ]
     },
     "execution_count": 61,
     "metadata": {},
     "output_type": "execute_result"
    }
   ],
   "source": [
    "tup.count('a')"
   ]
  },
  {
   "cell_type": "code",
   "execution_count": 62,
   "metadata": {},
   "outputs": [
    {
     "data": {
      "text/plain": [
       "0"
      ]
     },
     "execution_count": 62,
     "metadata": {},
     "output_type": "execute_result"
    }
   ],
   "source": [
    "tup.index('a') #returns index of first a it finds"
   ]
  },
  {
   "cell_type": "markdown",
   "metadata": {},
   "source": [
    "### Dictionaries\n",
    "\n",
    "Since dictionaries are a key value store, naturally many of their methods revolve around retriving keys or values. Common dictionary methods are:\n",
    "\n",
    "* `.get()` - Returns value of the key \n",
    "* `.keys()` - Returns all keys from dictionary\n",
    "* `.values()` - Returns all values from dictionary"
   ]
  },
  {
   "cell_type": "code",
   "execution_count": 63,
   "metadata": {},
   "outputs": [
    {
     "name": "stdout",
     "output_type": "stream",
     "text": [
      "{'toast': 2, 'beans': 2, 'eggs': 'sunny side up', 'sausage': 'chorizo'}\n"
     ]
    }
   ],
   "source": [
    "# alternative syntax: d = dict(toast = 2, beans = 2)\n",
    "d = {'toast':2, 'beans':2, 'eggs':'sunny side up', 'sausage':'chorizo'}\n",
    "print(d)"
   ]
  },
  {
   "cell_type": "code",
   "execution_count": 64,
   "metadata": {},
   "outputs": [
    {
     "data": {
      "text/plain": [
       "dict_keys(['toast', 'beans', 'eggs', 'sausage'])"
      ]
     },
     "execution_count": 64,
     "metadata": {},
     "output_type": "execute_result"
    }
   ],
   "source": [
    "# keys()\n",
    "d.keys() # get all keys from list"
   ]
  },
  {
   "cell_type": "code",
   "execution_count": 65,
   "metadata": {},
   "outputs": [
    {
     "data": {
      "text/plain": [
       "dict_values([2, 2, 'sunny side up', 'chorizo'])"
      ]
     },
     "execution_count": 65,
     "metadata": {},
     "output_type": "execute_result"
    }
   ],
   "source": [
    "# .values\n",
    "d.values() #get all values from dict"
   ]
  },
  {
   "cell_type": "code",
   "execution_count": 66,
   "metadata": {},
   "outputs": [
    {
     "data": {
      "text/plain": [
       "dict_items([('toast', 2), ('beans', 2), ('eggs', 'sunny side up'), ('sausage', 'chorizo')])"
      ]
     },
     "execution_count": 66,
     "metadata": {},
     "output_type": "execute_result"
    }
   ],
   "source": [
    "# .items()\n",
    "d.items() #returns (key,value) as  a list of tuples"
   ]
  },
  {
   "cell_type": "code",
   "execution_count": 67,
   "metadata": {},
   "outputs": [
    {
     "name": "stdout",
     "output_type": "stream",
     "text": [
      "toast value is: 2\n",
      "toast value is: 2\n"
     ]
    }
   ],
   "source": [
    "# .get() - alternative syntax: d['toast']\n",
    "print(\"toast value is:\", d.get('toast')) # Return value from key\n",
    "print(\"toast value is:\", d['toast'])"
   ]
  },
  {
   "cell_type": "code",
   "execution_count": 68,
   "metadata": {},
   "outputs": [
    {
     "data": {
      "text/plain": [
       "'mushroom'"
      ]
     },
     "execution_count": 68,
     "metadata": {},
     "output_type": "execute_result"
    }
   ],
   "source": [
    "# .get() - pass inside () key, optional default value, if key not present, will return default value, by default=None\n",
    "d.get('bacon','mushroom') #if there is no bacon key, return mushrooms"
   ]
  },
  {
   "cell_type": "code",
   "execution_count": 69,
   "metadata": {},
   "outputs": [],
   "source": [
    "d.get('tomato')"
   ]
  },
  {
   "cell_type": "code",
   "execution_count": 70,
   "metadata": {},
   "outputs": [
    {
     "data": {
      "text/plain": [
       "False"
      ]
     },
     "execution_count": 70,
     "metadata": {},
     "output_type": "execute_result"
    }
   ],
   "source": [
    "# 'in' statement returns boolean\n",
    "'chicken' in d.keys() # check if a key is in dict"
   ]
  },
  {
   "cell_type": "markdown",
   "metadata": {},
   "source": [
    "### In Statement\n",
    "\n",
    "In the previous cell an `in` and also `not in` statements are Python Membership Operators and they can be used to check for membership in a data object. Returns a boolean value. "
   ]
  },
  {
   "cell_type": "code",
   "execution_count": 71,
   "metadata": {},
   "outputs": [
    {
     "data": {
      "text/plain": [
       "True"
      ]
     },
     "execution_count": 71,
     "metadata": {},
     "output_type": "execute_result"
    }
   ],
   "source": [
    "# in \n",
    "'in' in 'indigo' # for strings, will check membership for substring exists in the string "
   ]
  },
  {
   "cell_type": "code",
   "execution_count": 72,
   "metadata": {},
   "outputs": [
    {
     "data": {
      "text/plain": [
       "False"
      ]
     },
     "execution_count": 72,
     "metadata": {},
     "output_type": "execute_result"
    }
   ],
   "source": [
    "# in \n",
    "'in' in {'out': 'in'} # for dictionary, will check for exact 'key' match"
   ]
  },
  {
   "cell_type": "code",
   "execution_count": 73,
   "metadata": {},
   "outputs": [
    {
     "data": {
      "text/plain": [
       "False"
      ]
     },
     "execution_count": 73,
     "metadata": {},
     "output_type": "execute_result"
    }
   ],
   "source": [
    "# in\n",
    "'in' in ['india', 'indigo', 'indio'] # for list, will check for exact element in list"
   ]
  },
  {
   "cell_type": "code",
   "execution_count": 74,
   "metadata": {},
   "outputs": [
    {
     "data": {
      "text/plain": [
       "False"
      ]
     },
     "execution_count": 74,
     "metadata": {},
     "output_type": "execute_result"
    }
   ],
   "source": [
    "# not in\n",
    "in_var = 'in'\n",
    "mixed_in = [in_var, 'inin', {\"in\": \"out\"}]\n",
    "'in' not in mixed_in"
   ]
  },
  {
   "cell_type": "code",
   "execution_count": 75,
   "metadata": {},
   "outputs": [
    {
     "data": {
      "text/plain": [
       "True"
      ]
     },
     "execution_count": 75,
     "metadata": {},
     "output_type": "execute_result"
    }
   ],
   "source": [
    "# not in\n",
    "'1' not in '20'"
   ]
  },
  {
   "cell_type": "code",
   "execution_count": 76,
   "metadata": {},
   "outputs": [
    {
     "data": {
      "text/plain": [
       "False"
      ]
     },
     "execution_count": 76,
     "metadata": {},
     "output_type": "execute_result"
    }
   ],
   "source": [
    "# not in\n",
    "5 not in list(range(6))"
   ]
  },
  {
   "cell_type": "markdown",
   "metadata": {},
   "source": [
    "### If...Else Statements\n",
    "\n",
    "The `if` and `else` statement are decision making and control flow for programs. In programming decision making and control flow is needed to execute a certain code if a condition is satisfied and execute a different code if not satisfied.\n",
    "\n",
    "```python\n",
    "if condition == True:\n",
    "|   |\n",
    "|   body of code # a Tab indention or 4 whitespaces for execute code\n",
    "|   |\n",
    "else:\n",
    "|   |\n",
    "|   body of different code # a Tab indention or 4 whitespaces for execute code\n",
    "```\n",
    "The syntax for `if...else` statement is shown above. `if` and `else` must be aligned together and the `if` body of code and `else` body of code must also be aligned together for the`if...else` statement to execute. By default `if` is `True` and `else` is `False`.\n",
    "\n",
    "#### Python If...Else Flow Chart\n",
    "\n",
    "![pic](https://programmingstack.com/images/if-else-fc.jpg)"
   ]
  },
  {
   "cell_type": "code",
   "execution_count": 77,
   "metadata": {},
   "outputs": [
    {
     "name": "stdout",
     "output_type": "stream",
     "text": [
      "True\n"
     ]
    }
   ],
   "source": [
    "if True: # by default if condition == True\n",
    "    print(True)\n",
    "else:\n",
    "    print(False)"
   ]
  },
  {
   "cell_type": "code",
   "execution_count": 78,
   "metadata": {},
   "outputs": [
    {
     "data": {
      "text/plain": [
       "'Hello, World!'"
      ]
     },
     "execution_count": 78,
     "metadata": {},
     "output_type": "execute_result"
    }
   ],
   "source": [
    "hw"
   ]
  },
  {
   "cell_type": "code",
   "execution_count": 79,
   "metadata": {},
   "outputs": [
    {
     "name": "stdout",
     "output_type": "stream",
     "text": [
      "hw is not in lower case\n"
     ]
    }
   ],
   "source": [
    "if hw.islower(): # condition is False\n",
    "    \n",
    "    print(hw)\n",
    "    \n",
    "else: # else condition code is executed\n",
    "    \n",
    "    print('hw is not in lower case')"
   ]
  },
  {
   "cell_type": "code",
   "execution_count": 80,
   "metadata": {},
   "outputs": [
    {
     "name": "stdout",
     "output_type": "stream",
     "text": [
      "['i', 'n', 'd', 'i', 'g', 'o']\n"
     ]
    }
   ],
   "source": [
    "if 'in' in 'indigo': # condition is True and if condition code is executed\n",
    "    print(list('indigo'))\n",
    "    \n",
    "else:\n",
    "    print('\"in\" is not in indigo')"
   ]
  },
  {
   "cell_type": "code",
   "execution_count": 81,
   "metadata": {},
   "outputs": [],
   "source": [
    "x = 1.514\n",
    "y = 3/4"
   ]
  },
  {
   "cell_type": "code",
   "execution_count": 82,
   "metadata": {},
   "outputs": [],
   "source": [
    "if y > x:\n",
    "    \n",
    "    print('{} is less than {}'.format(x,y))\n",
    "\n",
    "else:\n",
    "    \n",
    "    pass # Python pass statement means null operation, returns nothing"
   ]
  },
  {
   "cell_type": "code",
   "execution_count": 83,
   "metadata": {},
   "outputs": [
    {
     "name": "stdout",
     "output_type": "stream",
     "text": [
      "1.514 + 0.75 is a positive number\n"
     ]
    }
   ],
   "source": [
    "# if statement can be without else statement, if condition is false, returns nothing\n",
    "# if statement can also include logical operators and/or, &/|\n",
    "if x > 0 and y > 0: # logical and chain\n",
    "    print('{} + {} is a positive number'.format(x,y))"
   ]
  },
  {
   "cell_type": "code",
   "execution_count": 84,
   "metadata": {},
   "outputs": [
    {
     "name": "stdout",
     "output_type": "stream",
     "text": [
      "length difference between dr_seuss_list and mixed_list is: -9\n"
     ]
    }
   ],
   "source": [
    "if len(dr_seuss_list) > 10 | mixed_list.count('a') == 10: # logical or chain\n",
    "    dr_seuss_list.append(mixed_list)\n",
    "    print(dr_seuss_list)\n",
    "else:\n",
    "    print(\"length difference between dr_seuss_list and mixed_list is:\", len(dr_seuss_list) - len(mixed_list))"
   ]
  },
  {
   "cell_type": "markdown",
   "metadata": {},
   "source": [
    "### ELIF Statement\n",
    "\n",
    "The `elif` statement is a combination of `else if` statement. `elif` is used to add multiple conditions to decision making. If the first `if` condition is not satisfied, the code will check for `elif` condition is satisfied or not, if satisfied the `elif` body code will execute and if not, the code will move on to the next `elif` condition or to `else` and so on.\n",
    "\n",
    "```python\n",
    "\n",
    "if condition1:\n",
    "    body of code1\n",
    "elif condition2:\n",
    "    body of code2\n",
    "elif condition3:\n",
    "    body of code3\n",
    "else:\n",
    "    body of code4\n",
    "```\n",
    "\n",
    "As with `if...else` syntax `elif` must be aligned under the `if` statement for the whole statement to execute.\n",
    "\n",
    "#### Python If...Elif...Else Flow Chart\n",
    "![pic](http://www.trytoprogram.com/images/python_ifelseif.jpg)"
   ]
  },
  {
   "cell_type": "code",
   "execution_count": 87,
   "metadata": {},
   "outputs": [
    {
     "name": "stdin",
     "output_type": "stream",
     "text": [
      "enter a number between 1 to 15:  7\n"
     ]
    },
    {
     "name": "stdout",
     "output_type": "stream",
     "text": [
      "7 is in range 6 to 10\n"
     ]
    }
   ],
   "source": [
    "# this code checks for input number is in ranges 1-5, 6-10 or 11-15\n",
    "x = int(input('enter a number between 1 to 15: '))\n",
    "\n",
    "if x > 15:\n",
    "    print('{} out of range'.format(x))\n",
    "elif x > 10:\n",
    "    print('{} is in range 11 to 15'.format(x))\n",
    "elif x > 5:\n",
    "    print('{} is in range 6 to 10'.format(x))\n",
    "else:\n",
    "    print('{} is in range 1 to 5'.format(x))"
   ]
  },
  {
   "cell_type": "code",
   "execution_count": 88,
   "metadata": {},
   "outputs": [
    {
     "name": "stdin",
     "output_type": "stream",
     "text": [
      "choose between raining, sunny, cloudy, chilly, and windy sunny\n"
     ]
    },
    {
     "name": "stdout",
     "output_type": "stream",
     "text": [
      "perfect weather\n"
     ]
    }
   ],
   "source": [
    "# this code checks for input weather and prints appropriate message\n",
    "weather = input('choose between raining, sunny, cloudy, chilly, and windy').lower()\n",
    "\n",
    "if (weather == 'raining') | (weather == 'cloudy'):\n",
    "    print(\"don't forget an umbrella for this gloomy day\")\n",
    "elif (weather == 'windy') | (weather == 'chilly'):\n",
    "    print(\"better wear a coat or a hoodie\")\n",
    "else:\n",
    "    print('perfect weather')"
   ]
  },
  {
   "cell_type": "code",
   "execution_count": 89,
   "metadata": {},
   "outputs": [
    {
     "name": "stdin",
     "output_type": "stream",
     "text": [
      "basketball, football, or ???  basketball\n"
     ]
    },
    {
     "name": "stdout",
     "output_type": "stream",
     "text": [
      "I like to watch NBA\n"
     ]
    }
   ],
   "source": [
    "# elif alternate syntax\n",
    "sport = input('basketball, football, or ??? ').lower()\n",
    "\n",
    "if sport == 'basketball':\n",
    "    print('I like to watch NBA')\n",
    "\n",
    "else:\n",
    "    if sport == 'football':\n",
    "        print('I lke to watch EPL')\n",
    "    else:\n",
    "        print(\"I don't know that sport\")"
   ]
  },
  {
   "cell_type": "markdown",
   "metadata": {},
   "source": [
    "### Nested If...Else Statement\n",
    "A nested `if...else` statement is an `if` statement inside the body of an `if` statement. Having a nested `if` statement can form complex decision making structures. Any number of `if...else` statement can be nested, however the tradeoff is that code will become difficult to read.\n",
    "\n",
    "```python\n",
    "if condition1_1:\n",
    "    if condition1_2:\n",
    "        body of code1_2\n",
    "    elif:\n",
    "        body of code1_3\n",
    "    else:\n",
    "        body of code1_4\n",
    "elif condition2_1:\n",
    "    if condition2_2:\n",
    "        body of code2_2\n",
    "    else:\n",
    "        body of code2_3\n",
    "else:\n",
    "    body of code3\n",
    "```\n",
    "\n",
    "#### Python Nested If...Else Statement\n",
    "![pic](https://1.bp.blogspot.com/-ufncN4gMAO0/TfaSv5nqYOI/AAAAAAAAAGY/vMsRFj9jsjw/s1600/5.GIF)"
   ]
  },
  {
   "cell_type": "code",
   "execution_count": 90,
   "metadata": {},
   "outputs": [
    {
     "name": "stdin",
     "output_type": "stream",
     "text": [
      "enter an integer: 23\n"
     ]
    },
    {
     "name": "stdout",
     "output_type": "stream",
     "text": [
      "23 is positive odd integer and the cubed value is 12167\n"
     ]
    }
   ],
   "source": [
    "# nested if statement checks if input is odd or even, positive or negative integer\n",
    "num = int(input('enter an integer:'))\n",
    "\n",
    "if num % 2 == 0:\n",
    "    if num > 0:\n",
    "        print(num, \"is positive even integer and the squared value is\", num ** 2)\n",
    "    else:\n",
    "        print(num, \"is negative even integer and the cubed value is\", num ** 3)\n",
    "\n",
    "else:\n",
    "    if num > 0:\n",
    "        print(num, \"is positive odd integer and the cubed value is\", num ** 3)\n",
    "    else:\n",
    "        print(num, \"is negative odd integer and squared value is\", num ** 2)\n"
   ]
  },
  {
   "cell_type": "markdown",
   "metadata": {},
   "source": [
    "### Loop Statement\n",
    "\n",
    "Python has two Loop Statements, `for` and `while`. Loops are used for repitition, to run the same code over and over again until results are satisfied. Each run step is called iteration. An iterable is an object that has `__iter__` method such as a list or dictionary. An iterator is the object that is returned from the iterable in each iteration.\n",
    "\n",
    "`for` loops iterate over a sequence, such as a string, list, tuple, array, and dictionary to return the iterator object. The loop will stop when there is nothing else to iterate. The syntax is shown below:\n",
    "\n",
    "```python\n",
    "for iterator in iterable:\n",
    "    code # code is Tab or 4 whitespaces indented\n",
    "```\n",
    "#### Python For Loop Statement Flow Chart\n",
    "![pic](http://www.trytoprogram.com/images/python_for_loop.jpg)\n",
    "\n",
    "`while` statement repeats code until a boolean condition becomes `False`. If the boolean condition never becomes `False` the code will run forever. If The syntax is shown below:\n",
    "```python\n",
    "while condition:\n",
    "    code # code is Tab or 4 whitespaces indented\n",
    "```\n",
    "\n",
    "#### Python While Statement Flow Chart\n",
    "![pic](https://qph.fs.quoracdn.net/main-qimg-d9ad17c6eba27e31f73c0a604f261469)"
   ]
  },
  {
   "cell_type": "code",
   "execution_count": 91,
   "metadata": {},
   "outputs": [
    {
     "name": "stdout",
     "output_type": "stream",
     "text": [
      "0\n",
      "1\n",
      "2\n",
      "3\n",
      "4\n"
     ]
    }
   ],
   "source": [
    "# for loop\n",
    "for i in range(5):\n",
    "    print(i)"
   ]
  },
  {
   "cell_type": "code",
   "execution_count": 92,
   "metadata": {},
   "outputs": [
    {
     "name": "stdout",
     "output_type": "stream",
     "text": [
      "31\n"
     ]
    }
   ],
   "source": [
    "# for loop - this code sums the number in a list\n",
    "numbers = [1, 4, 2, 6, 11, 3, 4]\n",
    "total = 0 \n",
    "for i in numbers:\n",
    "    total = total + i # print out each iteration\n",
    "\n",
    "print(total)"
   ]
  },
  {
   "cell_type": "code",
   "execution_count": 93,
   "metadata": {},
   "outputs": [
    {
     "name": "stdout",
     "output_type": "stream",
     "text": [
      "A list of even numbers\n",
      "[2, 4, 6, 8, 10, 12, 14, 16, 18, 20, 22, 24, 26, 28, 30, 32, 34, 36, 38, 40, 42, 44, 46, 48, 50, 52, 54, 56, 58, 60, 62, 64, 66, 68, 70, 72, 74, 76, 78, 80, 82, 84, 86, 88, 90, 92, 94, 96, 98, 100]\n",
      "\n",
      "\n",
      "A list of odd numbers\n",
      "[1, 3, 5, 7, 9, 11, 13, 15, 17, 19, 21, 23, 25, 27, 29, 31, 33, 35, 37, 39, 41, 43, 45, 47, 49, 51, 53, 55, 57, 59, 61, 63, 65, 67, 69, 71, 73, 75, 77, 79, 81, 83, 85, 87, 89, 91, 93, 95, 97, 99]\n"
     ]
    }
   ],
   "source": [
    "# for loop\n",
    "l = range(1,101)\n",
    "odd = []\n",
    "even = []\n",
    "\n",
    "for i in l: \n",
    "    if i % 2 == 0:\n",
    "        even.append(i)\n",
    "    else:\n",
    "        odd.append(i)\n",
    "\n",
    "print(\"A list of even numbers\", even, sep='\\n')\n",
    "print('\\n')\n",
    "print(\"A list of odd numbers\", odd, sep='\\n')"
   ]
  },
  {
   "cell_type": "code",
   "execution_count": 94,
   "metadata": {},
   "outputs": [
    {
     "name": "stdout",
     "output_type": "stream",
     "text": [
      "Hello, World!\n",
      "\n",
      "\n",
      "H\n",
      "e\n",
      "l\n",
      "l\n",
      "o\n",
      ",\n",
      " \n",
      "W\n",
      "o\n",
      "r\n",
      "l\n",
      "d\n",
      "!\n"
     ]
    }
   ],
   "source": [
    "# for loop \n",
    "print(hw)\n",
    "print('\\n')\n",
    "\n",
    "for i in hw:\n",
    "    print(i)"
   ]
  },
  {
   "cell_type": "code",
   "execution_count": 95,
   "metadata": {},
   "outputs": [
    {
     "name": "stdout",
     "output_type": "stream",
     "text": [
      "0 [1, 2]\n",
      "1 ['a', 'b']\n",
      "2 python\n",
      "3 3.7\n",
      "4 {'mobile': 'iphone', 'food': 'dimsum'}\n",
      "5 852\n",
      "6 h\n",
      "7 o\n",
      "8 n\n",
      "9 g\n",
      "10  \n",
      "11 k\n",
      "12 o\n",
      "13 n\n",
      "14 g\n",
      "15 a\n",
      "16 z\n"
     ]
    }
   ],
   "source": [
    "# for loop - use enumerate() to return both iterator and a counter\n",
    "# this code shows k as index for each value v\n",
    "for k, v in enumerate(mixed_list):\n",
    "    print(k,v)"
   ]
  },
  {
   "cell_type": "code",
   "execution_count": 96,
   "metadata": {},
   "outputs": [
    {
     "name": "stdout",
     "output_type": "stream",
     "text": [
      "(0, 'The')\n",
      "(1, 'Cat')\n",
      "(2, 'in')\n",
      "(3, 'the')\n",
      "(4, 'Hat')\n",
      "(5, 'by')\n",
      "(6, 'Dr.')\n",
      "(7, 'Seuss')\n"
     ]
    }
   ],
   "source": [
    "# for loop - enumerate()\n",
    "for k in enumerate(dr_seuss_list): # if only 1 iterator, will return a tuple\n",
    "    print(k)"
   ]
  },
  {
   "cell_type": "code",
   "execution_count": 97,
   "metadata": {},
   "outputs": [
    {
     "name": "stdout",
     "output_type": "stream",
     "text": [
      "{'toast': 2, 'beans': 2, 'eggs': 'sunny side up', 'sausage': 'chorizo'}\n",
      "\n",
      "\n",
      "toast has a value of: 2\n",
      "beans has a value of: 2\n",
      "eggs has a value of: sunny side up\n",
      "sausage has a value of: chorizo\n"
     ]
    }
   ],
   "source": [
    "# for loop - to loop over a dictionary use .item() and two iterators to return key and value\n",
    "print(d)\n",
    "print('\\n')\n",
    "\n",
    "for k,v in d.items(): # The first iterator is for keys and The second iterator (optional) is for values of a dictionary\n",
    "    print('{} has a value of: {}'.format(k,v))"
   ]
  },
  {
   "cell_type": "code",
   "execution_count": 98,
   "metadata": {},
   "outputs": [
    {
     "name": "stdout",
     "output_type": "stream",
     "text": [
      "('x', 3)\n",
      "('y', -7)\n",
      "('z', 12)\n"
     ]
    }
   ],
   "source": [
    "xyz = {'x': 3, 'y': -7, 'z': 12}\n",
    "\n",
    "for k in xyz.items(): # if only 1 iterator, will return a tuple of key value pair\n",
    "    print(k)"
   ]
  },
  {
   "cell_type": "code",
   "execution_count": 99,
   "metadata": {},
   "outputs": [
    {
     "name": "stdout",
     "output_type": "stream",
     "text": [
      "0\n",
      "1\n",
      "2\n",
      "3\n",
      "4\n"
     ]
    }
   ],
   "source": [
    "# while statement\n",
    "count = 0 \n",
    "\n",
    "while count < 5:\n",
    "    print(count)\n",
    "    count = count + 1 \n",
    "    "
   ]
  },
  {
   "cell_type": "code",
   "execution_count": 100,
   "metadata": {},
   "outputs": [
    {
     "name": "stdout",
     "output_type": "stream",
     "text": [
      "0\n",
      "1\n",
      "2\n",
      "3\n",
      "4\n",
      "5\n",
      "6\n",
      "7\n",
      "8\n",
      "9\n",
      "10\n"
     ]
    }
   ],
   "source": [
    "# while statement\n",
    "count = 0\n",
    "\n",
    "while True:\n",
    "    print(count)\n",
    "    count += 1\n",
    "    if count == 11:\n",
    "        break # break is used to stop the while True loop"
   ]
  },
  {
   "cell_type": "code",
   "execution_count": 101,
   "metadata": {},
   "outputs": [
    {
     "name": "stdin",
     "output_type": "stream",
     "text": [
      "guess a number from 1 to 20 10\n"
     ]
    },
    {
     "name": "stdout",
     "output_type": "stream",
     "text": [
      "guess is less than secret number, guess again\n"
     ]
    },
    {
     "name": "stdin",
     "output_type": "stream",
     "text": [
      "guess a number from 1 to 20 15\n"
     ]
    },
    {
     "name": "stdout",
     "output_type": "stream",
     "text": [
      "guess is less than secret number, guess again\n"
     ]
    },
    {
     "name": "stdin",
     "output_type": "stream",
     "text": [
      "guess a number from 1 to 20 17\n"
     ]
    },
    {
     "name": "stdout",
     "output_type": "stream",
     "text": [
      "guess is less than secret number, guess again\n"
     ]
    },
    {
     "name": "stdin",
     "output_type": "stream",
     "text": [
      "guess a number from 1 to 20 19\n"
     ]
    },
    {
     "name": "stdout",
     "output_type": "stream",
     "text": [
      "guess is bigger than secret number, guess again\n"
     ]
    },
    {
     "name": "stdin",
     "output_type": "stream",
     "text": [
      "guess a number from 1 to 20 18\n"
     ]
    },
    {
     "name": "stdout",
     "output_type": "stream",
     "text": [
      "you guessed correctly, the secret number is 18\n"
     ]
    }
   ],
   "source": [
    "## while statement - guessing game\n",
    "import random # import random module \n",
    "\n",
    "guess = 0\n",
    "secret = random.randint(1,20) # generates a random integer from 1 to 20\n",
    "while guess != secret:\n",
    "    g = int(input('guess a number from 1 to 20'))\n",
    "    guess = g\n",
    "    if guess == secret:\n",
    "        print('you guessed correctly, the secret number is {}'.format(secret))\n",
    "    \n",
    "    elif guess > secret:\n",
    "        print('guess is bigger than secret number, guess again')\n",
    "        \n",
    "    else:\n",
    "        print('guess is less than secret number, guess again')\n",
    "        "
   ]
  },
  {
   "cell_type": "markdown",
   "metadata": {},
   "source": [
    "### User Defined Functions\n",
    "\n",
    "In Python along with built-in functions, a coder can make their own functions, these are user defined functions. User defined functions are a unique block of code that is only executed when called to perform a specific task. User defined functions are helpful to a program because they are reusable, helps with organization as it helps break the program down to smaller sections for debugging, makes a program modular, and a can be used in another programs.\n",
    "\n",
    "The general syntax for a function:\n",
    "\n",
    "```python \n",
    "\n",
    "def function_name(argument_1, argument_2,...): # arguments are optional, arguments can also have default values\n",
    "    \"\"\"\n",
    "    Docstring - this section explains your function (optional)\n",
    "    \"\"\"\n",
    "    # operation with arguments, the code inside a functin is by default a Tab or 4 whitespace indention\n",
    "    object = argument_1 + argument_2\n",
    "    # return object\n",
    "    return object\n",
    "\n",
    "# Use function_name to call the function.\n",
    "function_name(argument_1, argument_2)\n",
    "```\n",
    "\n",
    "Rules for functions:\n",
    "\n",
    "* __Defining the function__\n",
    "  * Use the `def` keyword\n",
    "  * Function name should be unique.\n",
    "  * Arguments are optional, but add more information and clarity what the function purpose is. Argument order matters.\n",
    "    * The arguments basically become a variable within the body of the function.\n",
    "  * Use `return` keyword to return some value.\n",
    "\n",
    "* __Using the function__\n",
    "  * To use or *call* your function you use the function name followed by parentheses.\n",
    "  * Inside the parenthese pass the arguments.\n"
   ]
  },
  {
   "cell_type": "code",
   "execution_count": 102,
   "metadata": {},
   "outputs": [
    {
     "data": {
      "text/plain": [
       "4"
      ]
     },
     "execution_count": 102,
     "metadata": {},
     "output_type": "execute_result"
    }
   ],
   "source": [
    "def add_one(x):\n",
    "    \"\"\"\n",
    "    This functions adds 1 to a number\n",
    "    \"\"\"\n",
    "    return x + 1\n",
    "\n",
    "x = 3\n",
    "add_one(x)"
   ]
  },
  {
   "cell_type": "code",
   "execution_count": 103,
   "metadata": {},
   "outputs": [
    {
     "name": "stdout",
     "output_type": "stream",
     "text": [
      "Hello, World!\n"
     ]
    }
   ],
   "source": [
    "# function with no arguemnts\n",
    "def hello_world():\n",
    "    print('Hello, World!')\n",
    "\n",
    "hello_world() # if pass arguments will always print Hello, World!"
   ]
  },
  {
   "cell_type": "code",
   "execution_count": 104,
   "metadata": {},
   "outputs": [
    {
     "name": "stdout",
     "output_type": "stream",
     "text": [
      "No arguments passed in returns: -3\n",
      "One argument passed in returns: -9\n",
      "Two argument passed in returns: 5\n"
     ]
    }
   ],
   "source": [
    "# function with default arguments \n",
    "def add_number(x = 1, y = -4):\n",
    "    z = x + y\n",
    "    return z\n",
    "\n",
    "print('No arguments passed in returns:',add_number()) # no arguments passed\n",
    "print('One argument passed in returns:', add_number(-5)) # one argument passed overwrites default x \n",
    "print('Two argument passed in returns:', add_number(2, 3)) # two arguments passed overwrites default x and y"
   ]
  },
  {
   "cell_type": "code",
   "execution_count": 105,
   "metadata": {},
   "outputs": [
    {
     "data": {
      "text/plain": [
       "77"
      ]
     },
     "execution_count": 105,
     "metadata": {},
     "output_type": "execute_result"
    }
   ],
   "source": [
    "l = [23, 34,55, 66,34,6,77,2,55,22,57,2]\n",
    "\n",
    "def my_max(num_list):\n",
    "    \"\"\"\n",
    "    This returns the max value in a list\n",
    "    \"\"\"\n",
    "    biggest = num_list[0]\n",
    "    for num in num_list:\n",
    "        if num > biggest:\n",
    "            biggest = num\n",
    "            \n",
    "    return biggest\n",
    " \n",
    "my_max(l)    "
   ]
  },
  {
   "cell_type": "markdown",
   "metadata": {},
   "source": [
    "### Positional Arguments\n",
    "\n",
    "The order for passing arguments to a function matters"
   ]
  },
  {
   "cell_type": "code",
   "execution_count": 106,
   "metadata": {},
   "outputs": [],
   "source": [
    "def power(x,a):\n",
    "    return x**a"
   ]
  },
  {
   "cell_type": "code",
   "execution_count": 107,
   "metadata": {},
   "outputs": [
    {
     "data": {
      "text/plain": [
       "4096"
      ]
     },
     "execution_count": 107,
     "metadata": {},
     "output_type": "execute_result"
    }
   ],
   "source": [
    "power(4,6)"
   ]
  },
  {
   "cell_type": "code",
   "execution_count": 108,
   "metadata": {},
   "outputs": [
    {
     "data": {
      "text/plain": [
       "1296"
      ]
     },
     "execution_count": 108,
     "metadata": {},
     "output_type": "execute_result"
    }
   ],
   "source": [
    "power(6,4)"
   ]
  },
  {
   "cell_type": "markdown",
   "metadata": {},
   "source": [
    "Alternatively, directly pass the values to the arguments, then the order won't matter."
   ]
  },
  {
   "cell_type": "code",
   "execution_count": 109,
   "metadata": {},
   "outputs": [
    {
     "data": {
      "text/plain": [
       "1296"
      ]
     },
     "execution_count": 109,
     "metadata": {},
     "output_type": "execute_result"
    }
   ],
   "source": [
    "power(x = 6,a = 4)"
   ]
  },
  {
   "cell_type": "code",
   "execution_count": 110,
   "metadata": {},
   "outputs": [
    {
     "data": {
      "text/plain": [
       "1296"
      ]
     },
     "execution_count": 110,
     "metadata": {},
     "output_type": "execute_result"
    }
   ],
   "source": [
    "power(a = 4, x = 6)"
   ]
  },
  {
   "cell_type": "markdown",
   "metadata": {},
   "source": [
    "If arguments are in a list ca use an asterisk (`*`) to unpack the arguments into the function. "
   ]
  },
  {
   "cell_type": "code",
   "execution_count": 111,
   "metadata": {},
   "outputs": [
    {
     "data": {
      "text/plain": [
       "16"
      ]
     },
     "execution_count": 111,
     "metadata": {},
     "output_type": "execute_result"
    }
   ],
   "source": [
    "l = [2,4]\n",
    "power(*l)"
   ]
  },
  {
   "cell_type": "markdown",
   "metadata": {},
   "source": [
    "### Default Arguments\n",
    "\n",
    "Functions can have default arguments so it is not necessary to pass every argument "
   ]
  },
  {
   "cell_type": "code",
   "execution_count": 112,
   "metadata": {},
   "outputs": [],
   "source": [
    "def hello(name='Dom'):\n",
    "    print('Hello, ' + name)"
   ]
  },
  {
   "cell_type": "code",
   "execution_count": 113,
   "metadata": {},
   "outputs": [
    {
     "name": "stdout",
     "output_type": "stream",
     "text": [
      "Hello, Dom\n"
     ]
    }
   ],
   "source": [
    "hello()"
   ]
  },
  {
   "cell_type": "code",
   "execution_count": 114,
   "metadata": {},
   "outputs": [
    {
     "name": "stdout",
     "output_type": "stream",
     "text": [
      "Hello, All\n"
     ]
    }
   ],
   "source": [
    "hello('All')"
   ]
  },
  {
   "cell_type": "code",
   "execution_count": 115,
   "metadata": {},
   "outputs": [
    {
     "name": "stdout",
     "output_type": "stream",
     "text": [
      "Hello, Bob\n"
     ]
    }
   ],
   "source": [
    "hello(name=\"Bob\")"
   ]
  },
  {
   "cell_type": "code",
   "execution_count": 117,
   "metadata": {},
   "outputs": [
    {
     "name": "stdout",
     "output_type": "stream",
     "text": [
      "No arguments passed in returns: -3\n",
      "One argument passed in returns: -9\n",
      "Two argument passed in returns: 5\n"
     ]
    }
   ],
   "source": [
    "# function with default arguments \n",
    "def add_number(x = 1, y = -4):\n",
    "    z = x + y\n",
    "    return z\n",
    "\n",
    "print('No arguments passed in returns:', add_number()) # no arguments passed\n",
    "print('One argument passed in returns:', add_number(-5)) # one argument passed overwrites default x \n",
    "print('Two argument passed in returns:', add_number(2, 3)) # two arguments passed overwrites default x and y"
   ]
  },
  {
   "cell_type": "markdown",
   "metadata": {},
   "source": [
    "With default arguments, can use a dictionary to pass the values into the function, use the double asterisk (`**`) to unpack the arguments.\n"
   ]
  },
  {
   "cell_type": "code",
   "execution_count": 118,
   "metadata": {},
   "outputs": [],
   "source": [
    "def describe_person(first_name=None,last_name=None):\n",
    "    \n",
    "    print(\"First name: {}\\nLast name: {}\".format(first_name,last_name))"
   ]
  },
  {
   "cell_type": "code",
   "execution_count": 119,
   "metadata": {},
   "outputs": [],
   "source": [
    "d = {'first_name': 'Dom' , 'last_name': 'Morgan'}"
   ]
  },
  {
   "cell_type": "code",
   "execution_count": 120,
   "metadata": {},
   "outputs": [
    {
     "name": "stdout",
     "output_type": "stream",
     "text": [
      "First name: Dom\n",
      "Last name: Morgan\n"
     ]
    }
   ],
   "source": [
    "describe_person(**d)"
   ]
  },
  {
   "cell_type": "markdown",
   "metadata": {},
   "source": [
    "The keys in the a dictionary need to be the same name as the arguments for the function."
   ]
  },
  {
   "cell_type": "code",
   "execution_count": 121,
   "metadata": {},
   "outputs": [
    {
     "ename": "TypeError",
     "evalue": "describe_person() got an unexpected keyword argument 'first'",
     "output_type": "error",
     "traceback": [
      "\u001b[0;31m---------------------------------------------------------------------------\u001b[0m",
      "\u001b[0;31mTypeError\u001b[0m                                 Traceback (most recent call last)",
      "\u001b[0;32m<ipython-input-121-fd187dcb9942>\u001b[0m in \u001b[0;36m<module>\u001b[0;34m()\u001b[0m\n\u001b[1;32m      1\u001b[0m \u001b[0md\u001b[0m \u001b[0;34m=\u001b[0m \u001b[0;34m{\u001b[0m\u001b[0;34m'first'\u001b[0m\u001b[0;34m:\u001b[0m \u001b[0;34m'Dom'\u001b[0m \u001b[0;34m,\u001b[0m \u001b[0;34m'last'\u001b[0m\u001b[0;34m:\u001b[0m \u001b[0;34m'Morgan'\u001b[0m\u001b[0;34m}\u001b[0m\u001b[0;34m\u001b[0m\u001b[0m\n\u001b[0;32m----> 2\u001b[0;31m \u001b[0mdescribe_person\u001b[0m\u001b[0;34m(\u001b[0m\u001b[0;34m**\u001b[0m\u001b[0md\u001b[0m\u001b[0;34m)\u001b[0m \u001b[0;31m## will error\u001b[0m\u001b[0;34m\u001b[0m\u001b[0m\n\u001b[0m",
      "\u001b[0;31mTypeError\u001b[0m: describe_person() got an unexpected keyword argument 'first'"
     ]
    }
   ],
   "source": [
    "d = {'first': 'Dom' , 'last': 'Morgan'}\n",
    "describe_person(**d) ## will error"
   ]
  },
  {
   "cell_type": "markdown",
   "metadata": {},
   "source": [
    "### Variable number of arguments\n",
    "Can pass any number of arguments to a function by using `*` infront of single argument."
   ]
  },
  {
   "cell_type": "code",
   "execution_count": 122,
   "metadata": {},
   "outputs": [],
   "source": [
    "def adder(*x):\n",
    "    \n",
    "    total = 0\n",
    "    for num in x:\n",
    "        total += num\n",
    "    return total"
   ]
  },
  {
   "cell_type": "code",
   "execution_count": 123,
   "metadata": {},
   "outputs": [
    {
     "data": {
      "text/plain": [
       "15"
      ]
     },
     "execution_count": 123,
     "metadata": {},
     "output_type": "execute_result"
    }
   ],
   "source": [
    "adder(1,2,3,4,5)"
   ]
  },
  {
   "cell_type": "code",
   "execution_count": 124,
   "metadata": {},
   "outputs": [
    {
     "data": {
      "text/plain": [
       "10"
      ]
     },
     "execution_count": 124,
     "metadata": {},
     "output_type": "execute_result"
    }
   ],
   "source": [
    "adder(4,6)"
   ]
  },
  {
   "cell_type": "code",
   "execution_count": 125,
   "metadata": {},
   "outputs": [
    {
     "data": {
      "text/plain": [
       "122"
      ]
     },
     "execution_count": 125,
     "metadata": {},
     "output_type": "execute_result"
    }
   ],
   "source": [
    "adder(4,7,8,88,4,4,3,4)"
   ]
  },
  {
   "cell_type": "markdown",
   "metadata": {},
   "source": [
    "### Lambda Expression\n",
    "\n",
    "`lambda` expression are one line shortcut functions for small anonymous functions. The lambda syntax is:\n",
    "```python\n",
    "lambda argument: argument operation\n",
    "```\n",
    "`lambda` functions are commonly used with `filter()`, `map()`, and `.apply()`. "
   ]
  },
  {
   "cell_type": "code",
   "execution_count": 126,
   "metadata": {},
   "outputs": [
    {
     "data": {
      "text/plain": [
       "-3"
      ]
     },
     "execution_count": 126,
     "metadata": {},
     "output_type": "execute_result"
    }
   ],
   "source": [
    "# lambda function\n",
    "add = lambda x, y: x + y\n",
    "add(1,-4)"
   ]
  },
  {
   "cell_type": "code",
   "execution_count": 127,
   "metadata": {},
   "outputs": [],
   "source": [
    "# the above lambda function can be read as\n",
    "def adder(x,y):\n",
    "    return x + y"
   ]
  },
  {
   "cell_type": "code",
   "execution_count": 128,
   "metadata": {},
   "outputs": [
    {
     "name": "stdout",
     "output_type": "stream",
     "text": [
      "[2, 4, 6, 8, 10]\n"
     ]
    }
   ],
   "source": [
    "my_list = list(range(1,11))\n",
    "\n",
    "even_list = list(filter(lambda x: x % 2 == 0, my_list)) # filter() takes in a function and a list as arguments, filter() only returns the function called on each items that are True\n",
    "\n",
    "print(even_list)"
   ]
  },
  {
   "cell_type": "code",
   "execution_count": 129,
   "metadata": {},
   "outputs": [
    {
     "name": "stdout",
     "output_type": "stream",
     "text": [
      "[1, 4, 9, 16, 25, 36, 49, 64, 81, 100]\n"
     ]
    }
   ],
   "source": [
    "squared_list = list(map(lambda x: x**2, my_list)) # map() takes in a function and a list as arguments, map() returns the function called on each item\n",
    "print(squared_list)"
   ]
  },
  {
   "cell_type": "markdown",
   "metadata": {},
   "source": [
    "### List Comprehension\n",
    "\n",
    "List comprehension are one line shortcut for loop statements to generate a list. The list comprehension syntax is:\n",
    "```python\n",
    "var = [ output operation for variable in input sequence]\n",
    "```\n"
   ]
  },
  {
   "cell_type": "code",
   "execution_count": 130,
   "metadata": {},
   "outputs": [
    {
     "name": "stdout",
     "output_type": "stream",
     "text": [
      "[2, 4, 6, 8, 10, 12, 14, 16, 18, 20]\n"
     ]
    }
   ],
   "source": [
    "double = [ i * 2 for i in my_list]\n",
    "print(double)"
   ]
  },
  {
   "cell_type": "code",
   "execution_count": 131,
   "metadata": {},
   "outputs": [
    {
     "name": "stdout",
     "output_type": "stream",
     "text": [
      "[9, 8, 0]\n"
     ]
    }
   ],
   "source": [
    "duplicate_list = [1,3,6,3,4,1,5,7,4,6,9,8,0,5,7,3,2,1,2]\n",
    "non_duplicate = [x for x in duplicate_list if duplicate_list.count(x) == 1 ]\n",
    "print(non_duplicate)"
   ]
  },
  {
   "cell_type": "markdown",
   "metadata": {},
   "source": [
    "### Dictionary Comprehension\n",
    "\n",
    "Dictionary comprehension are one line shortcut for loop statements to generate a dictionary. The dictionary comprehension syntax is:\n",
    "```python\n",
    "dic =  { key:value for key,value in input sequence}\n",
    "```"
   ]
  },
  {
   "cell_type": "code",
   "execution_count": 132,
   "metadata": {},
   "outputs": [
    {
     "name": "stdout",
     "output_type": "stream",
     "text": [
      "{1: 3, 3: 3, 6: 2, 4: 2, 5: 2, 7: 2, 9: 1, 8: 1, 0: 1, 2: 2}\n"
     ]
    }
   ],
   "source": [
    "duplicate_dict = {k: duplicate_list.count(k) for k in duplicate_list}\n",
    "print(duplicate_dict)"
   ]
  },
  {
   "cell_type": "code",
   "execution_count": 133,
   "metadata": {},
   "outputs": [
    {
     "name": "stdout",
     "output_type": "stream",
     "text": [
      "{'cars': 'tesla', 'food': 'mexican', 'sport': 'basketball', 'vacation': 'hawaii'}\n"
     ]
    }
   ],
   "source": [
    "# converting two list to a dictionary\n",
    "lst1 = ['cars', 'food', 'sport', 'vacation']\n",
    "lst2 = ['tesla', 'mexican', 'basketball', 'hawaii']\n",
    "my_favs = {k:v for k,v in zip(lst1, lst2)} # zip() is used to combine iterables into a tuple\n",
    "print(my_favs)"
   ]
  },
  {
   "cell_type": "markdown",
   "metadata": {},
   "source": [
    "### Datetime Module\n",
    "\n",
    "Python doesn't recognize dates as a data type, however Python has a library `datetime` that can treat dates as date objects.\n",
    "\n",
    "Python official docs for [datetime](https://docs.python.org/3/library/datetime.html) \n",
    "\n",
    "To use Python libraries, use `import`\n",
    "```python\n",
    "from datetime import datetime\n",
    "```\n",
    "The example above means from Python `datetime` library import `datetime` module. Once imported can now use `datetime` associated methods. Execute`help(datetime)` or `datetime.` + Tab to bring up a list of datetime methods.\n"
   ]
  },
  {
   "cell_type": "code",
   "execution_count": 134,
   "metadata": {},
   "outputs": [
    {
     "name": "stdout",
     "output_type": "stream",
     "text": [
      "2018-12-10 23:38:11.416900\n"
     ]
    }
   ],
   "source": [
    "from datetime import datetime\n",
    "\n",
    "# assign operation to variable\n",
    "date = datetime.today()\n",
    "print(date)"
   ]
  },
  {
   "cell_type": "code",
   "execution_count": 135,
   "metadata": {},
   "outputs": [
    {
     "data": {
      "text/plain": [
       "datetime.datetime"
      ]
     },
     "execution_count": 135,
     "metadata": {},
     "output_type": "execute_result"
    }
   ],
   "source": [
    "# datetime is not a string or numerical\n",
    "type(date)"
   ]
  },
  {
   "cell_type": "code",
   "execution_count": 136,
   "metadata": {},
   "outputs": [
    {
     "data": {
      "text/plain": [
       "2018"
      ]
     },
     "execution_count": 136,
     "metadata": {},
     "output_type": "execute_result"
    }
   ],
   "source": [
    "# calling attributes, attributes don't use ()\n",
    "date.year # returns year"
   ]
  },
  {
   "cell_type": "code",
   "execution_count": 137,
   "metadata": {},
   "outputs": [
    {
     "data": {
      "text/plain": [
       "12"
      ]
     },
     "execution_count": 137,
     "metadata": {},
     "output_type": "execute_result"
    }
   ],
   "source": [
    "date.month # returns month"
   ]
  },
  {
   "cell_type": "code",
   "execution_count": 138,
   "metadata": {},
   "outputs": [
    {
     "data": {
      "text/plain": [
       "10"
      ]
     },
     "execution_count": 138,
     "metadata": {},
     "output_type": "execute_result"
    }
   ],
   "source": [
    "date.day # returns day"
   ]
  },
  {
   "cell_type": "code",
   "execution_count": 139,
   "metadata": {},
   "outputs": [],
   "source": [
    "# create parameters for datetime object\n",
    "dt_year = 2018\n",
    "dt_month = 6\n",
    "dt_day = 25\n",
    "dt_hour = 9\n",
    "dt_minute = 30\n",
    "dt_second = 45"
   ]
  },
  {
   "cell_type": "code",
   "execution_count": 140,
   "metadata": {},
   "outputs": [
    {
     "name": "stdout",
     "output_type": "stream",
     "text": [
      "2018-06-25 00:00:00\n"
     ]
    }
   ],
   "source": [
    "# create datetime object\n",
    "my_date = datetime(dt_year, dt_month, dt_day)\n",
    "print(my_date) # by default time is 00:00:00"
   ]
  },
  {
   "cell_type": "code",
   "execution_count": 141,
   "metadata": {},
   "outputs": [
    {
     "name": "stdout",
     "output_type": "stream",
     "text": [
      "2018-06-25 09:30:45\n"
     ]
    }
   ],
   "source": [
    "my_date = datetime(dt_year, dt_month, dt_day, dt_hour, dt_minute, dt_second)\n",
    "print(my_date)"
   ]
  },
  {
   "cell_type": "code",
   "execution_count": 142,
   "metadata": {},
   "outputs": [
    {
     "name": "stdout",
     "output_type": "stream",
     "text": [
      "The year is: 2018\n",
      "The month is: 6\n",
      "The day is: 25\n",
      "The hour is: 9\n",
      "The minute is: 30\n",
      "The second is: 45\n"
     ]
    }
   ],
   "source": [
    "# get attributes from my_date\n",
    "print(\"The year is:\", my_date.year)\n",
    "print(\"The month is:\", my_date.month)\n",
    "print(\"The day is:\", my_date.day)\n",
    "print(\"The hour is:\", my_date.hour)\n",
    "print(\"The minute is:\", my_date.minute)\n",
    "print(\"The second is:\", my_date.second)"
   ]
  },
  {
   "cell_type": "markdown",
   "metadata": {},
   "source": [
    "With a datetime object can use `.strftime()` (string format time) method to return a string version. The syntax is:\n",
    "```python\n",
    "datetime.strftime('directive')\n",
    "```\n",
    "The directive is passed in as a string into `.strftime()`. Below table is a reference to legal format codes:"
   ]
  },
  {
   "cell_type": "markdown",
   "metadata": {},
   "source": [
    "Directive | Meaning | Example \n",
    " ----- | ----- | -----\n",
    " %a | Weekday as locale’s abbreviated name. | Sun, Mon, …, Sat (en_US) \n",
    " %A | Weekday as locale’s full name. | Sunday, Monday, …, Saturday (en_US) \n",
    " %w | Weekday as a decimal number, where 0 is Sunday and 6 is Saturday. | 0, 1, …, 6 \t \n",
    " %d | Day of the month as a zero-padded decimal number. | 01, 02, …, 31 \n",
    " %b | Month as locale’s abbreviated name. | Jan, Feb, …, Dec (en_US) \n",
    " %B | Month as locale’s full name. | January, February, …, December (en_US) \n",
    " %m | Month as a zero-padded decimal number. | 01, 02, …, 12 \n",
    " %y | Year without century as a zero-padded decimal number. | 00, 01, …, 99 \t \n",
    " %Y | Year with century as a decimal number. | 0001, 0002, …, 2013, 2014, …, 9998, 9999 \n",
    " %H | Hour (24-hour clock) as a zero-padded decimal number. | 00, 01, …, 23 \n",
    " %I | Hour (12-hour clock) as a zero-padded decimal number. | 01, 02, …, 12 \n",
    " %p | Locale’s equivalent of either AM or PM. | AM, PM (en_US) \n",
    " %M | Minute as a zero-padded decimal number. | 00, 01, …, 59 \n",
    " %S | Second as a zero-padded decimal number. | 00, 01, …, 59 \n",
    " %f | Microsecond as a decimal number, zero-padded on the left. | 000000, 000001, …, 999999 \n",
    " %z | UTC offset in the form ±HHMM[SS[.ffffff]] (empty string if the object is naive). | (empty), +0000, -0400, +1030, +063415, -030712.345216 \n",
    " %Z | Time zone name (empty string if the object is naive). | (empty), UTC, EST, CST \n",
    " %j | Day of the year as a zero-padded decimal number. | 001, 002, …, 366 \n",
    " %U | Week number of the year (Sunday as the first day of the week) as a zero padded decimal number. All days in a new year preceding the first Sunday are considered to be in week 0. | 00, 01, …, 53\n",
    " %W | Week number of the year (Monday as the first day of the week) as a decimal number. All days in a new year preceding the first Monday are considered to be in week 0. | 00, 01, …, 53 \n",
    " %c | Locale’s appropriate date and time representation. | Tue Aug 16 21:30:00 1988 (en_US) \n",
    " %x | Locale’s appropriate date representation. | 08/16/88 (None); 08/16/1988 (en_US) \n",
    " %X | Locale’s appropriate time representation. | 21:30:00 (en_US) \n",
    " %% | A literal '%' character.\t| % \n",
    " %G | ISO 8601 year with century representing the year that contains the greater part of the ISO week (%V). | 0001, 0002, …, 2013, 2014, …, 9998, 9999 \n",
    " %u | ISO 8601 weekday as a decimal number where 1 is Monday. | 1, 2, …, 7 \n",
    " %V | ISO 8601 week as a decimal number with Monday as the first day of the week. Week 01 is the week containing Jan 4. | 01, 02, …, 53 "
   ]
  },
  {
   "cell_type": "code",
   "execution_count": 143,
   "metadata": {},
   "outputs": [
    {
     "data": {
      "text/plain": [
       "'2018'"
      ]
     },
     "execution_count": 143,
     "metadata": {},
     "output_type": "execute_result"
    }
   ],
   "source": [
    "# Return Year\n",
    "my_date.strftime('%Y')"
   ]
  },
  {
   "cell_type": "code",
   "execution_count": 144,
   "metadata": {},
   "outputs": [
    {
     "data": {
      "text/plain": [
       "'June'"
      ]
     },
     "execution_count": 144,
     "metadata": {},
     "output_type": "execute_result"
    }
   ],
   "source": [
    "# Return Month\n",
    "my_date.strftime('%B')"
   ]
  },
  {
   "cell_type": "code",
   "execution_count": 145,
   "metadata": {},
   "outputs": [
    {
     "data": {
      "text/plain": [
       "'25'"
      ]
     },
     "execution_count": 145,
     "metadata": {},
     "output_type": "execute_result"
    }
   ],
   "source": [
    "# Return Day\n",
    "my_date.strftime('%d')"
   ]
  },
  {
   "cell_type": "code",
   "execution_count": 146,
   "metadata": {},
   "outputs": [
    {
     "data": {
      "text/plain": [
       "'2018 June 25'"
      ]
     },
     "execution_count": 146,
     "metadata": {},
     "output_type": "execute_result"
    }
   ],
   "source": [
    "# Return Year Month Day\n",
    "my_date.strftime(\"%Y %B %d\")"
   ]
  },
  {
   "cell_type": "code",
   "execution_count": 147,
   "metadata": {},
   "outputs": [
    {
     "data": {
      "text/plain": [
       "'25 June 2018'"
      ]
     },
     "execution_count": 147,
     "metadata": {},
     "output_type": "execute_result"
    }
   ],
   "source": [
    "# Return Day Month Year\n",
    "my_date.strftime(\"%d %B %Y\")"
   ]
  },
  {
   "cell_type": "markdown",
   "metadata": {},
   "source": [
    "Within `datetime` library there is a `time` module for time related methods. To use the `time` module import from `datetime`.\n",
    "\n",
    "```python\n",
    "from datetime import time\n",
    "```\n",
    "Below is `.strftime()` directives for time format:"
   ]
  },
  {
   "cell_type": "markdown",
   "metadata": {},
   "source": [
    "Directive | Meaning \n",
    "-| ----\n",
    "%a | Locale’s abbreviated weekday name.\t \n",
    "%A | Locale’s full weekday name.\t \n",
    "%b | Locale’s abbreviated month name.\t \n",
    "%B | Locale’s full month name.\t \n",
    "%c | Locale’s appropriate date and time representation.\t \n",
    "%d | Day of the month as a decimal number [01,31].\t \n",
    "%H | Hour (24-hour clock) as a decimal number [00,23].\t \n",
    "%I | Hour (12-hour clock) as a decimal number [01,12].\t \n",
    "%j | Day of the year as a decimal number [001,366].\t \n",
    "%m | Month as a decimal number [01,12].\t \n",
    "%M | Minute as a decimal number [00,59].\t \n",
    "%p | Locale’s equivalent of either AM or PM.\n",
    "%S | Second as a decimal number [00,61].\n",
    "%U | Week number of the year (Sunday as the first day of the week) as a decimal number [00,53]. All days in a new year preceding the first Sunday are considered to be in week 0.\n",
    "%w | Weekday as a decimal number [0(Sunday),6].\t \n",
    "%W | Week number of the year (Monday as the first day of the week) as a decimal number [00,53]. All days in a new year preceding the first Monday are considered to be in week 0.\n",
    "%x | Locale’s appropriate date representation.\t \n",
    "%X | Locale’s appropriate time representation.\t \n",
    "%y | Year without century as a decimal number [00,99].\t \n",
    "%Y | Year with century as a decimal number.\t \n",
    "%z | Time zone offset indicating a positive or negative time difference from UTC/GMT of the form +HHMM or -HHMM, where H represents decimal hour digits and M represents decimal minute digits [-23:59, +23:59].\t \n",
    "%Z | Time zone name (no characters if no time zone exists).\t \n",
    "%% | A literal '%' character."
   ]
  },
  {
   "cell_type": "code",
   "execution_count": 148,
   "metadata": {},
   "outputs": [
    {
     "name": "stdout",
     "output_type": "stream",
     "text": [
      "13:45:10\n"
     ]
    }
   ],
   "source": [
    "# Time module\n",
    "from datetime import time\n",
    "\n",
    "hour = 13\n",
    "minute = 45\n",
    "seconds = 10\n",
    "t = time(hour,minute,seconds)\n",
    "print(t)"
   ]
  },
  {
   "cell_type": "code",
   "execution_count": 149,
   "metadata": {},
   "outputs": [
    {
     "data": {
      "text/plain": [
       "'01 45 10'"
      ]
     },
     "execution_count": 149,
     "metadata": {},
     "output_type": "execute_result"
    }
   ],
   "source": [
    "# Return Hour, Minute, Seconds\n",
    "t.strftime('%I %M %S')"
   ]
  },
  {
   "cell_type": "markdown",
   "metadata": {},
   "source": [
    "### Time Module\n",
    "Python also has a `time` library that has time-related functions. Note that not all functions are available for all platforms. The official Python `time` library docs are [here](https://docs.python.org/3.7/library/time.html). Import to use the `time` library.\n",
    "```python\n",
    "import time\n",
    "```"
   ]
  },
  {
   "cell_type": "code",
   "execution_count": 151,
   "metadata": {},
   "outputs": [
    {
     "name": "stdout",
     "output_type": "stream",
     "text": [
      "time.struct_time(tm_year=2018, tm_mon=12, tm_mday=10, tm_hour=23, tm_min=39, tm_sec=23, tm_wday=0, tm_yday=344, tm_isdst=0)\n"
     ]
    },
    {
     "data": {
      "text/plain": [
       "time.struct_time"
      ]
     },
     "execution_count": 151,
     "metadata": {},
     "output_type": "execute_result"
    }
   ],
   "source": [
    "# return localtime in a tuple\n",
    "import time\n",
    "tt = time.localtime()\n",
    "print(tt)\n",
    "type(tt)"
   ]
  },
  {
   "cell_type": "code",
   "execution_count": 152,
   "metadata": {},
   "outputs": [
    {
     "name": "stdout",
     "output_type": "stream",
     "text": [
      "hour: 23\n",
      "minute: 39\n"
     ]
    }
   ],
   "source": [
    "# index to get values\n",
    "print(\"hour:\", tt[3])\n",
    "print(\"minute:\", tt[4])"
   ]
  },
  {
   "cell_type": "code",
   "execution_count": 153,
   "metadata": {},
   "outputs": [
    {
     "data": {
      "text/plain": [
       "'23:39:23'"
      ]
     },
     "execution_count": 153,
     "metadata": {},
     "output_type": "execute_result"
    }
   ],
   "source": [
    "# to strftime\n",
    "time.strftime(\"%H:%M:%S\", tt)"
   ]
  }
 ],
 "metadata": {
  "kernelspec": {
   "display_name": "Python 3",
   "language": "python",
   "name": "python3"
  },
  "language_info": {
   "codemirror_mode": {
    "name": "ipython",
    "version": 3
   },
   "file_extension": ".py",
   "mimetype": "text/x-python",
   "name": "python",
   "nbconvert_exporter": "python",
   "pygments_lexer": "ipython3",
   "version": "3.7.0"
  }
 },
 "nbformat": 4,
 "nbformat_minor": 2
}
