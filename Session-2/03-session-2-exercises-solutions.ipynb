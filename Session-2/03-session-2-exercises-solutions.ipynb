{
 "cells": [
  {
   "cell_type": "markdown",
   "metadata": {},
   "source": [
    "![pic](https://xccelerate.co/static/logo@3x-45da759fdee2af1d7e8b7cc2c3e8e73e-28324.png)"
   ]
  },
  {
   "cell_type": "markdown",
   "metadata": {},
   "source": [
    "# Session 2 Exercises Solutions\n",
    "*Note: for most exercises there are many solutions that works*"
   ]
  },
  {
   "cell_type": "markdown",
   "metadata": {},
   "source": [
    "1) In a range 21 create a new list with only odd numbers."
   ]
  },
  {
   "cell_type": "code",
   "execution_count": 1,
   "metadata": {},
   "outputs": [
    {
     "name": "stdout",
     "output_type": "stream",
     "text": [
      "[1, 3, 5, 7, 9, 11, 13, 15, 17, 19]\n"
     ]
    }
   ],
   "source": [
    "# solution\n",
    "num = list(range(21))\n",
    "odds = [] \n",
    "for i in num: \n",
    "    if i % 2 == 1:\n",
    "        odds.append(i)\n",
    "\n",
    "print(odds)"
   ]
  },
  {
   "cell_type": "markdown",
   "metadata": {},
   "source": [
    "2) Calculate the sum from the string."
   ]
  },
  {
   "cell_type": "code",
   "execution_count": 2,
   "metadata": {},
   "outputs": [
    {
     "data": {
      "text/plain": [
       "39"
      ]
     },
     "execution_count": 2,
     "metadata": {},
     "output_type": "execute_result"
    }
   ],
   "source": [
    "# solution\n",
    "num_str = \"538291038\"\n",
    "x = []\n",
    "if num_str.isdigit():\n",
    "    for i in num_str:\n",
    "        x.append(int(i))\n",
    "sum(x)      "
   ]
  },
  {
   "cell_type": "markdown",
   "metadata": {},
   "source": [
    "3) Convert the string to a list and capitalize each word."
   ]
  },
  {
   "cell_type": "code",
   "execution_count": 3,
   "metadata": {},
   "outputs": [
    {
     "name": "stdout",
     "output_type": "stream",
     "text": [
      "['Hello', 'World', 'And', 'Practice', 'Makes', 'Permanent', 'And', 'Hello', 'World', 'Again']\n"
     ]
    }
   ],
   "source": [
    "# solution\n",
    "s = \"hello world and practice makes permanent and hello world again\"\n",
    "\n",
    "s_lst = s.title().split()\n",
    "print(s_lst)"
   ]
  },
  {
   "cell_type": "markdown",
   "metadata": {},
   "source": [
    "4) From question 3 list write a function to remove all duplicate words, then sort in alphabetical order."
   ]
  },
  {
   "cell_type": "code",
   "execution_count": 4,
   "metadata": {},
   "outputs": [
    {
     "data": {
      "text/plain": [
       "['Again', 'And', 'Hello', 'Makes', 'Permanent', 'Practice', 'World']"
      ]
     },
     "execution_count": 4,
     "metadata": {},
     "output_type": "execute_result"
    }
   ],
   "source": [
    "# solution\n",
    "def unique_words(lst):\n",
    "    unique_list = []\n",
    "    for i in lst:\n",
    "        if i not in unique_list:\n",
    "            unique_list.append(i)\n",
    "        else:\n",
    "            pass\n",
    "    return unique_list\n",
    "\n",
    "alpha_lst = unique_words(s_lst)\n",
    "alpha_lst.sort()\n",
    "alpha_lst"
   ]
  },
  {
   "cell_type": "markdown",
   "metadata": {},
   "source": [
    "5) Write a function to return a list of $ x $ squared number."
   ]
  },
  {
   "cell_type": "code",
   "execution_count": 5,
   "metadata": {},
   "outputs": [],
   "source": [
    "# solution\n",
    "def sq_number(lst):\n",
    "    sq_lst = []\n",
    "    for i in lst:\n",
    "        sq_lst.append(i ** 2)\n",
    "    return sq_lst"
   ]
  },
  {
   "cell_type": "markdown",
   "metadata": {},
   "source": [
    "6) Get all the keys in a dictionary."
   ]
  },
  {
   "cell_type": "code",
   "execution_count": 6,
   "metadata": {},
   "outputs": [
    {
     "data": {
      "text/plain": [
       "dict_keys(['cars', 'food', 'location'])"
      ]
     },
     "execution_count": 6,
     "metadata": {},
     "output_type": "execute_result"
    }
   ],
   "source": [
    "dic = {'cars':['bmw, tesla'], 'food':['mexican', 'sushi'], 'location': 'hong kong'}\n",
    "# solution\n",
    "dic.keys()"
   ]
  },
  {
   "cell_type": "markdown",
   "metadata": {},
   "source": [
    "7) Combine the two list together in the same sequence"
   ]
  },
  {
   "cell_type": "code",
   "execution_count": 7,
   "metadata": {},
   "outputs": [
    {
     "data": {
      "text/plain": [
       "['basketball',\n",
       " 'gym',\n",
       " 'football',\n",
       " 'cycling',\n",
       " 'apples',\n",
       " 'bread',\n",
       " 'oats',\n",
       " 'salmon']"
      ]
     },
     "execution_count": 7,
     "metadata": {},
     "output_type": "execute_result"
    }
   ],
   "source": [
    "l1 = ['basketball', 'gym', 'football', 'cycling']\n",
    "l2 = ['apples', 'bread', 'oats', 'salmon']\n",
    "# solution\n",
    "l1.extend(l2)\n",
    "l1"
   ]
  },
  {
   "cell_type": "markdown",
   "metadata": {},
   "source": [
    "8) Explain the output of this condition type(5) == type(5.0)."
   ]
  },
  {
   "cell_type": "code",
   "execution_count": 8,
   "metadata": {},
   "outputs": [
    {
     "data": {
      "text/plain": [
       "False"
      ]
     },
     "execution_count": 8,
     "metadata": {},
     "output_type": "execute_result"
    }
   ],
   "source": [
    "# solution\n",
    "type(5) == type(5.0) # type(5) returns an integer and type(5.0) returns a float"
   ]
  },
  {
   "cell_type": "markdown",
   "metadata": {},
   "source": [
    "9) Create a if else conditional statement where a user inputs a number and outputs positive, negative, zero or string number."
   ]
  },
  {
   "cell_type": "code",
   "execution_count": 10,
   "metadata": {},
   "outputs": [
    {
     "name": "stdin",
     "output_type": "stream",
     "text": [
      "enter a number:  23\n"
     ]
    },
    {
     "name": "stdout",
     "output_type": "stream",
     "text": [
      "user 23 is positive number\n"
     ]
    }
   ],
   "source": [
    "# solution\n",
    "user = input('enter a number: ')\n",
    "\n",
    "if user.isdigit():\n",
    "    x = int(user)\n",
    "    if x > 0:\n",
    "        print('user {} is positive number'.format(x))\n",
    "    elif x < 0:\n",
    "        print('user {} is negative number'.format(x))\n",
    "    elif x == 0:\n",
    "        print('user {} is zero'.format(x))\n",
    "else:\n",
    "    print('user {} is string number'.format(user))"
   ]
  },
  {
   "cell_type": "markdown",
   "metadata": {},
   "source": [
    "10) Use a for loop to create a dictionary that counts the total of number of letters, digits, and non alnum characters."
   ]
  },
  {
   "cell_type": "code",
   "execution_count": 11,
   "metadata": {},
   "outputs": [
    {
     "data": {
      "text/plain": [
       "{'letters': 34, 'digits': 17, 'non_alnum': 15}"
      ]
     },
     "execution_count": 11,
     "metadata": {},
     "output_type": "execute_result"
    }
   ],
   "source": [
    "amzn = \"Amazon.com, Inc. NASDAQ: AMZN 1,629.13 USD -70.06 (-4.12%), closed 7 Dec 7:58\" \n",
    "# solution\n",
    "d = {'letters':0, 'digits':0, 'non_alnum':0}\n",
    "symbols = '.,:-()%'\n",
    "for characters in amzn:\n",
    "    if characters.isalpha():\n",
    "        d['letters'] = d['letters'] + 1\n",
    "    elif characters.isdigit():\n",
    "        d['digits'] = d['digits'] + 1\n",
    "    elif characters in symbols:\n",
    "        d['non_alnum'] = d['non_alnum'] + 1\n",
    "d"
   ]
  },
  {
   "cell_type": "markdown",
   "metadata": {},
   "source": [
    "11) Create a datetime object of your module 2 schedule date and time"
   ]
  },
  {
   "cell_type": "code",
   "execution_count": 12,
   "metadata": {},
   "outputs": [
    {
     "name": "stdout",
     "output_type": "stream",
     "text": [
      "2018-12-11 10:00:00\n"
     ]
    }
   ],
   "source": [
    "# solution\n",
    "mod2_month = 12\n",
    "mod2_day = 11\n",
    "mod2_year = 2018\n",
    "mod2_hour = 10\n",
    "mod2_minute = 0\n",
    "mod2_seconds = 0\n",
    "\n",
    "from datetime import datetime\n",
    "\n",
    "scheduled = datetime(mod2_year, mod2_month, mod2_day, mod2_hour, mod2_minute, mod2_seconds)\n",
    "print(scheduled)"
   ]
  },
  {
   "cell_type": "markdown",
   "metadata": {},
   "source": [
    "12) Convert your scheduled date to strftime() format year, month name, day of week, date and time, for the time part include `:` between the spaces am/pm."
   ]
  },
  {
   "cell_type": "code",
   "execution_count": 13,
   "metadata": {},
   "outputs": [
    {
     "data": {
      "text/plain": [
       "'2018 December 11 Tuesday 10:00:00 AM'"
      ]
     },
     "execution_count": 13,
     "metadata": {},
     "output_type": "execute_result"
    }
   ],
   "source": [
    "# solution\n",
    "scheduled.strftime(\"%Y %B %d %A %I:%M:%S %p\")"
   ]
  },
  {
   "cell_type": "markdown",
   "metadata": {},
   "source": [
    "13) Create a palindrome function to check if a string is a palindrome. A palindrome is a string that is the same forwards and backwards such as radar, kayak, and racecar."
   ]
  },
  {
   "cell_type": "code",
   "execution_count": 14,
   "metadata": {},
   "outputs": [
    {
     "data": {
      "text/plain": [
       "True"
      ]
     },
     "execution_count": 14,
     "metadata": {},
     "output_type": "execute_result"
    }
   ],
   "source": [
    "# solution\n",
    "def is_palindrome(string):\n",
    "    return string[::-1] == string\n",
    "\n",
    "is_palindrome('racecar')"
   ]
  },
  {
   "cell_type": "markdown",
   "metadata": {},
   "source": [
    "14) Evaluate if two strings are all lowercase."
   ]
  },
  {
   "cell_type": "code",
   "execution_count": 15,
   "metadata": {},
   "outputs": [
    {
     "name": "stdout",
     "output_type": "stream",
     "text": [
      "one of the string is not in lowercase\n"
     ]
    }
   ],
   "source": [
    "s1 = 'hello world'\n",
    "s2 = 'I took the MTR today'\n",
    "# solution\n",
    "if s1.islower() and s2.islower():\n",
    "    print(\"both {} and {} are all lowercase\".format(s1,s2))\n",
    "else:\n",
    "    print(\"one of the string is not in lowercase\")"
   ]
  },
  {
   "cell_type": "markdown",
   "metadata": {},
   "source": [
    "15) Use a while statement to create a counter for popularity between pizza, tacos, sushi, and hamburger. When the counter for any item reaches 5, print the most popular item. Ensure that user inputs is in lowercase."
   ]
  },
  {
   "cell_type": "code",
   "execution_count": 16,
   "metadata": {},
   "outputs": [
    {
     "name": "stdin",
     "output_type": "stream",
     "text": [
      "choose one food menu item: pizza, tacos, sushi, or hamburger:  pizzaa\n"
     ]
    },
    {
     "name": "stdout",
     "output_type": "stream",
     "text": [
      "food not available\n"
     ]
    },
    {
     "name": "stdin",
     "output_type": "stream",
     "text": [
      "choose one food menu item: pizza, tacos, sushi, or hamburger:  pizza\n",
      "choose one food menu item: pizza, tacos, sushi, or hamburger:  hamburger\n",
      "choose one food menu item: pizza, tacos, sushi, or hamburger:  tacos\n",
      "choose one food menu item: pizza, tacos, sushi, or hamburger:  sushi\n",
      "choose one food menu item: pizza, tacos, sushi, or hamburger:  pizza\n",
      "choose one food menu item: pizza, tacos, sushi, or hamburger:  pizza\n",
      "choose one food menu item: pizza, tacos, sushi, or hamburger:  tacos\n",
      "choose one food menu item: pizza, tacos, sushi, or hamburger:  sushi\n",
      "choose one food menu item: pizza, tacos, sushi, or hamburger:  salad\n"
     ]
    },
    {
     "name": "stdout",
     "output_type": "stream",
     "text": [
      "food not available\n"
     ]
    },
    {
     "name": "stdin",
     "output_type": "stream",
     "text": [
      "choose one food menu item: pizza, tacos, sushi, or hamburger:  hamburger\n",
      "choose one food menu item: pizza, tacos, sushi, or hamburger:  tacos\n",
      "choose one food menu item: pizza, tacos, sushi, or hamburger:  tacos\n",
      "choose one food menu item: pizza, tacos, sushi, or hamburger:  sushi\n",
      "choose one food menu item: pizza, tacos, sushi, or hamburger:  pizza\n",
      "choose one food menu item: pizza, tacos, sushi, or hamburger:  tacos\n"
     ]
    },
    {
     "name": "stdout",
     "output_type": "stream",
     "text": [
      "tacos is most popular\n"
     ]
    }
   ],
   "source": [
    "# solution\n",
    "pizza_count = 0\n",
    "tacos_count = 0\n",
    "sushi_count = 0\n",
    "hamburger_count = 0\n",
    "\n",
    "while True:\n",
    "    food = input('choose one food menu item: pizza, tacos, sushi, or hamburger: ').lower()\n",
    "    if food == 'pizza':\n",
    "        pizza_count += 1\n",
    "        if pizza_count == 5:\n",
    "            print('pizza is most popular')\n",
    "            break\n",
    "    elif food == 'tacos':\n",
    "        tacos_count +=1\n",
    "        if tacos_count == 5:\n",
    "            print('tacos is most popular')\n",
    "            break\n",
    "    elif food == 'sushi':\n",
    "        sushi_count +=1\n",
    "        if sushi_count == 5:\n",
    "            print('sushi is most popular')\n",
    "            break\n",
    "    elif food == 'hamburger':\n",
    "        hamburger_count +=1\n",
    "        if hamburger_count == 5:\n",
    "            print('hamburger is most popular')\n",
    "            break\n",
    "    else:\n",
    "        print('food not available')"
   ]
  },
  {
   "cell_type": "markdown",
   "metadata": {},
   "source": [
    "16) Write a function where a user can choose Celsius to Fahrenheit or Fahrenheit to Celsius"
   ]
  },
  {
   "cell_type": "code",
   "execution_count": 17,
   "metadata": {},
   "outputs": [
    {
     "name": "stdin",
     "output_type": "stream",
     "text": [
      "enter \"C\" for Fahrenheit to Celsius or \"F\" for Celsius to Fahrenheit: c\n",
      "enter Fahrenheit temperature: 75\n"
     ]
    },
    {
     "name": "stdout",
     "output_type": "stream",
     "text": [
      "75 Fahrenheit is 23.89 Celsius\n"
     ]
    }
   ],
   "source": [
    "# solution\n",
    "def temp_converter():\n",
    "    user = input('enter \"C\" for Fahrenheit to Celsius or \"F\" for Celsius to Fahrenheit:')\n",
    "    if user.upper() == 'C':\n",
    "        f_temp = input('enter Fahrenheit temperature:')\n",
    "        if f_temp.isdigit():\n",
    "            f_temp = int(f_temp)\n",
    "            celsius = round((f_temp - 32) * (5/9),2)\n",
    "            print(\"{} Fahrenheit is {} Celsius\".format(f_temp, celsius))\n",
    "        else:\n",
    "            f_temp = int(input('re-enter digit Fahrenheit temperature:'))\n",
    "            celsius = round((f_temp - 32) * (5/9),2)\n",
    "            print(\"{} Fahrenheit is {} Celsius\".format(f_temp, celsius))\n",
    "    elif user.upper() == 'F':\n",
    "        c_temp = input('enter Celsius temperature:')\n",
    "        if c_temp.isdigit():\n",
    "            c_temp = int(c_temp)\n",
    "            fahrenheit = round((c_temp * (9/5)) + 32,2)\n",
    "            print(\"{} Celsius is {} Fahrenheit\".format(c_temp, fahrenheit))\n",
    "        else:\n",
    "            c_temp = int(input('enter digit Celsius temperature:'))\n",
    "            fahrenheit = round((c_temp * (9/5)) + 32,2)\n",
    "            print(\"{} Celsius is {} Fahrenheit\".format(c_temp, fahrenheit))\n",
    "    else:\n",
    "        print('unknown input', temp_converter())\n",
    "        \n",
    "temp_converter()"
   ]
  },
  {
   "cell_type": "markdown",
   "metadata": {},
   "source": [
    "17) Create a while statement that keeps adding numbers until input is a not a digit"
   ]
  },
  {
   "cell_type": "code",
   "execution_count": 18,
   "metadata": {},
   "outputs": [
    {
     "name": "stdin",
     "output_type": "stream",
     "text": [
      "enter a number:  1\n"
     ]
    },
    {
     "name": "stdout",
     "output_type": "stream",
     "text": [
      "digit is 1\n"
     ]
    },
    {
     "name": "stdin",
     "output_type": "stream",
     "text": [
      "enter a number:  4\n"
     ]
    },
    {
     "name": "stdout",
     "output_type": "stream",
     "text": [
      "digit is 14\n"
     ]
    },
    {
     "name": "stdin",
     "output_type": "stream",
     "text": [
      "enter a number:  5\n"
     ]
    },
    {
     "name": "stdout",
     "output_type": "stream",
     "text": [
      "digit is 145\n"
     ]
    },
    {
     "name": "stdin",
     "output_type": "stream",
     "text": [
      "enter a number:  3\n"
     ]
    },
    {
     "name": "stdout",
     "output_type": "stream",
     "text": [
      "digit is 1453\n"
     ]
    },
    {
     "name": "stdin",
     "output_type": "stream",
     "text": [
      "enter a number:  four\n"
     ]
    },
    {
     "name": "stdout",
     "output_type": "stream",
     "text": [
      "digit is 1453four\n",
      "end loop\n"
     ]
    }
   ],
   "source": [
    "# solution\n",
    "add_num = \"\"\n",
    "\n",
    "while True:\n",
    "    num = input('enter a number: ')\n",
    "    add_num += num\n",
    "    print(\"digit is {}\".format(add_num))\n",
    "    if num.isdigit() == False:\n",
    "        print('end loop')\n",
    "        break\n"
   ]
  },
  {
   "cell_type": "markdown",
   "metadata": {},
   "source": [
    "For more practices you can visit these sites:\n",
    "* [hacker rank](https://www.hackerrank.com/domains/python)\n",
    "* [exercism](https://exercism.io/tracks/python)\n",
    "* [code wars](https://www.codewars.com/)"
   ]
  }
 ],
 "metadata": {
  "kernelspec": {
   "display_name": "Python 3",
   "language": "python",
   "name": "python3"
  },
  "language_info": {
   "codemirror_mode": {
    "name": "ipython",
    "version": 3
   },
   "file_extension": ".py",
   "mimetype": "text/x-python",
   "name": "python",
   "nbconvert_exporter": "python",
   "pygments_lexer": "ipython3",
   "version": "3.7.0"
  }
 },
 "nbformat": 4,
 "nbformat_minor": 2
}
