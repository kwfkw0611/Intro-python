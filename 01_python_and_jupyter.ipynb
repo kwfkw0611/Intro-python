{
 "cells": [
  {
   "cell_type": "markdown",
   "metadata": {},
   "source": [
    "![pic](https://xccelerate.co/static/logo@3x-45da759fdee2af1d7e8b7cc2c3e8e73e-28324.png)"
   ]
  },
  {
   "cell_type": "markdown",
   "metadata": {},
   "source": [
    "## Python Popularity\n",
    "\n",
    "Python is 4th on the TIOBE index (a company that evaluates software code quality) and continues to gain adoption. Along with its popularity comes a large community, which means that there are many Python programmers developing open source libraries to solve a wide variety of problems. \n",
    "\n",
    "In particular Python has brilliant libraries for data science and machine learning, and is currently the most popular language used in these fields. Its popularity and open source means debugging is considerably easier and faster, since any problem you have encountered, it is likely to be already posted on stackoverflow (a popular programming forum). A recent [post](https://stackoverflow.blog/2017/09/06/incredible-growth-python/) from stackoverflow predicts its popularity to keep growing.\n",
    "\n",
    "<img src=\"https://zgab33vy595fw5zq-zippykid.netdna-ssl.com/wp-content/uploads/2017/09/projections-1-1024x878.png\"   alt=\"Smiley face\" width=\"600\">\n"
   ]
  },
  {
   "cell_type": "markdown",
   "metadata": {},
   "source": [
    "## Simple And High Level\n",
    "\n",
    "Python has a simple syntax which makes it easier to learn for beginners, this also makes it simpler to write more complex programs. To illustrate this, lets look at two \"Hello, World!\" programs. The \"Hello, World!\" is a basic novice program to introduce a programming language by simply displaying the words \"Hello, World!\" onto the screen.\n",
    "\n",
    "> Hello world in C\n",
    "\n",
    "```C\n",
    "#include <stdio.h>\n",
    "int main()\n",
    "{\n",
    "   // printf() displays the string inside quotation\n",
    "   printf(\"Hello, World!\");\n",
    "   return 0;\n",
    "}\n",
    "\n",
    "```\n",
    "\n",
    "> Hello world in Python\n",
    "\n",
    "```python\n",
    "print(\"Hello, World!\")\n",
    "```\n"
   ]
  },
  {
   "cell_type": "markdown",
   "metadata": {},
   "source": [
    "## Interpreted \n",
    "\n",
    "\n",
    "An interpreted language is one where you can run a program instantly, this is in contrast to a compiled language like C which must be built (using a compiler) before the program can run. This makes Python well suited for data analysis as we can easily use code to explore our problem, and get instant feedback. The same instant feed back loop makes it easier for a beginner to learn since they can quickly see the output of their code. It also aids in incremental development workflows, like that of programming in Jupyter notebooks."
   ]
  },
  {
   "cell_type": "markdown",
   "metadata": {},
   "source": [
    "## Zen of Python\n",
    "\n",
    "The \"Zen of Python\" is an Easter Egg, which basically are guidelines on how to write code in pythonic philosophy."
   ]
  },
  {
   "cell_type": "code",
   "execution_count": 1,
   "metadata": {},
   "outputs": [
    {
     "name": "stdout",
     "output_type": "stream",
     "text": [
      "The Zen of Python, by Tim Peters\n",
      "\n",
      "Beautiful is better than ugly.\n",
      "Explicit is better than implicit.\n",
      "Simple is better than complex.\n",
      "Complex is better than complicated.\n",
      "Flat is better than nested.\n",
      "Sparse is better than dense.\n",
      "Readability counts.\n",
      "Special cases aren't special enough to break the rules.\n",
      "Although practicality beats purity.\n",
      "Errors should never pass silently.\n",
      "Unless explicitly silenced.\n",
      "In the face of ambiguity, refuse the temptation to guess.\n",
      "There should be one-- and preferably only one --obvious way to do it.\n",
      "Although that way may not be obvious at first unless you're Dutch.\n",
      "Now is better than never.\n",
      "Although never is often better than *right* now.\n",
      "If the implementation is hard to explain, it's a bad idea.\n",
      "If the implementation is easy to explain, it may be a good idea.\n",
      "Namespaces are one honking great idea -- let's do more of those!\n"
     ]
    }
   ],
   "source": [
    "# to read the \"Zen of Python\"\n",
    "import this"
   ]
  },
  {
   "cell_type": "markdown",
   "metadata": {},
   "source": [
    "# Jupyter\n",
    "\n",
    "Jupyter is an open source IDE (interactive development environment), in which we can run code and view the results instantly. Unlike traditional programs which are just a text files, Jupyter notebooks are documents in which we can mix HTML, Markdown and Code. Given the nature of notebooks they are perfect for data analysis/science and fittingly so Jupyter is an acronym for Julia, Python and R, all great languages for data science. \n",
    "\n",
    "Jupyter comes in two flavours, the classic Jupyter Notebook, a web-based interactive environment and the next generation user interface Jupyter Lab. Both use the same notebook format, however, Jupyter Lab, provides more modern features such as terminal, split screen, and pdf viewer all in a better interface and easier navigation.\n"
   ]
  },
  {
   "cell_type": "markdown",
   "metadata": {},
   "source": [
    "## Cell types\n",
    "\n",
    "There are 3 default cell types, Code, Markdown, and Raw.  Raw cells are rarely used so won't cover these in any detail. Code cell are for coding language. Markdown is used to write text in the notebook that uses markup language a superset of HTML. To run a cell, use \"play\" button or \"Run\" tab and choose prefer action.\n",
    "\n",
    "There are many more shortcuts which can be found in the commands tab on the left hand side of Jupyter Lab, or in the help tab in the classic notebook."
   ]
  },
  {
   "cell_type": "markdown",
   "metadata": {},
   "source": [
    "## Markdown\n",
    "\n",
    "Markdown is a lightweight language for writing text documents in a notebook. Check out these cheatsheets [(1)](https://github.com/adam-p/markdown-here/wiki/Markdown-Cheatsheet) [(2)](https://ia.net/writer/support/general/markdown-guide/).  The markdown cells are also capable of running HTML, this allows us to embed Youtube videos, web pages (using iframes), or images."
   ]
  },
  {
   "cell_type": "markdown",
   "metadata": {},
   "source": [
    "## Magics\n",
    "\n",
    "Magics are specific to Python Notebooks, they add additional functionality to the code cells. For example below, using the bash magic, I can run bash code in the notebook."
   ]
  },
  {
   "cell_type": "code",
   "execution_count": 6,
   "metadata": {},
   "outputs": [
    {
     "name": "stdout",
     "output_type": "stream",
     "text": [
      "Hello World\n"
     ]
    }
   ],
   "source": [
    "%%bash\n",
    "echo \"Hello World\""
   ]
  },
  {
   "cell_type": "markdown",
   "metadata": {},
   "source": [
    "There are Magics available for a large variety of task for loading files, to running R code."
   ]
  },
  {
   "cell_type": "markdown",
   "metadata": {},
   "source": [
    "## Kernel\n",
    "\n",
    "The kernel is a computational engine it is responsible for running the code in a notebook. We can install kernels for other [langauges](https://github.com/jupyter/jupyter/wiki/Jupyter-kernels), so we can have programming notebooks in dozens of languages. If the code is resource heavy and the pc specs are inadequate, it may crash the kernel and cause the notebook to stall. To restart the kernel click on the “Kernel” tab. \n",
    "\n",
    "In the top right hand corner there is a small circle that represents the state of the kernel. When the circle is black it means either that it is running (performing computations) or alternatively it has crashed. When the circle is white it means that the kernel is idle."
   ]
  },
  {
   "cell_type": "markdown",
   "metadata": {},
   "source": [
    "## Keyboard Shortcuts and Misc\n",
    "\n",
    "Running a cell:\n",
    "* `ctrl+enter` - Run the selected cells and stay in current cells\n",
    "* `shift+enter` - Run the selected cells and advance to next cell, if selected cell is the last cell, will insert and advance to new cell\n",
    "* `alt+enter` - Run the selected cells then insert and advance to new cell\n",
    "\n",
    "When cell is selected:\n",
    "* `m` - Change cell type to Markdown\n",
    "* `r` - Change cell type to Raw\n",
    "* `y` - Change cell type to Code\n",
    "* `a` - Add a cell above selected cell\n",
    "* `b` - Add a cell below selected cell\n",
    "* hit `d` twice - delete selected cell\n",
    "* `x` - Cut selected cell\n",
    "* `c` - Copy selected cell\n",
    "* `v` - Paste cell below selected cell\n",
    "* `#` - Can type a comment after # in a code cell\n",
    "* `tab` - Autocomplete\n",
    "* `shift+tab` - Docstring for a function\n"
   ]
  },
  {
   "cell_type": "markdown",
   "metadata": {},
   "source": [
    "## Reference and Resources:\n",
    "\n",
    "* [Jupyter Notebook Tutorial: The Definitive Guide](https://www.datacamp.com/community/tutorials/tutorial-jupyter-notebook)\n",
    "* [Markdown Cheatsheet](https://github.com/adam-p/markdown-here/wiki/Markdown-Cheatsheet)\n",
    "* [Markdown Guide](https://ia.net/writer/support/general/markdown-guide/)\n"
   ]
  }
 ],
 "metadata": {
  "kernelspec": {
   "display_name": "Python 3",
   "language": "python",
   "name": "python3"
  },
  "language_info": {
   "codemirror_mode": {
    "name": "ipython",
    "version": 3
   },
   "file_extension": ".py",
   "mimetype": "text/x-python",
   "name": "python",
   "nbconvert_exporter": "python",
   "pygments_lexer": "ipython3",
   "version": "3.7.0"
  }
 },
 "nbformat": 4,
 "nbformat_minor": 2
}
